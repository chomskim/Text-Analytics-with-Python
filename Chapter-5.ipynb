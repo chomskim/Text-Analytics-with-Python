{
 "cells": [
  {
   "cell_type": "markdown",
   "metadata": {},
   "source": [
    "# CHAPTER 5 Text Summarization\n"
   ]
  },
  {
   "cell_type": "markdown",
   "metadata": {},
   "source": [
    "## Text Normalization\n"
   ]
  },
  {
   "cell_type": "code",
   "execution_count": 1,
   "metadata": {
    "collapsed": true
   },
   "outputs": [],
   "source": [
    "from contractions import CONTRACTION_MAP\n",
    "import re\n",
    "import nltk\n",
    "import string\n",
    "from nltk.stem import WordNetLemmatizer\n",
    "from HTMLParser import HTMLParser\n",
    "import unicodedata\n",
    "\n",
    "stopword_list = nltk.corpus.stopwords.words('english')\n",
    "wnl = WordNetLemmatizer()\n",
    "html_parser = HTMLParser()\n",
    "\n",
    "def tokenize_text(text):\n",
    "    tokens = nltk.word_tokenize(text) \n",
    "    tokens = [token.strip() for token in tokens]\n",
    "    return tokens\n",
    "\n",
    "def expand_contractions(text, contraction_mapping):\n",
    "    \n",
    "    contractions_pattern = re.compile('({})'.format('|'.join(contraction_mapping.keys())), \n",
    "                                      flags=re.IGNORECASE|re.DOTALL)\n",
    "    def expand_match(contraction):\n",
    "        match = contraction.group(0)\n",
    "        first_char = match[0]\n",
    "        expanded_contraction = contraction_mapping.get(match)\\\n",
    "                                if contraction_mapping.get(match)\\\n",
    "                                else contraction_mapping.get(match.lower())                       \n",
    "        expanded_contraction = first_char+expanded_contraction[1:]\n",
    "        return expanded_contraction\n",
    "        \n",
    "    expanded_text = contractions_pattern.sub(expand_match, text)\n",
    "    expanded_text = re.sub(\"'\", \"\", expanded_text)\n",
    "    return expanded_text\n",
    "    \n",
    "    \n",
    "from pattern.en import tag\n",
    "from nltk.corpus import wordnet as wn\n",
    "\n",
    "# Annotate text tokens with POS tags\n",
    "def pos_tag_text(text):\n",
    "    \n",
    "    def penn_to_wn_tags(pos_tag):\n",
    "        if pos_tag.startswith('J'):\n",
    "            return wn.ADJ\n",
    "        elif pos_tag.startswith('V'):\n",
    "            return wn.VERB\n",
    "        elif pos_tag.startswith('N'):\n",
    "            return wn.NOUN\n",
    "        elif pos_tag.startswith('R'):\n",
    "            return wn.ADV\n",
    "        else:\n",
    "            return None\n",
    "    \n",
    "    tagged_text = tag(text)\n",
    "    tagged_lower_text = [(word.lower(), penn_to_wn_tags(pos_tag))\n",
    "                         for word, pos_tag in\n",
    "                         tagged_text]\n",
    "    return tagged_lower_text\n",
    "    \n",
    "# lemmatize text based on POS tags    \n",
    "def lemmatize_text(text):\n",
    "    \n",
    "    pos_tagged_text = pos_tag_text(text)\n",
    "    lemmatized_tokens = [wnl.lemmatize(word, pos_tag) if pos_tag\n",
    "                         else word                     \n",
    "                         for word, pos_tag in pos_tagged_text]\n",
    "    lemmatized_text = ' '.join(lemmatized_tokens)\n",
    "    return lemmatized_text\n",
    "    \n",
    "\n",
    "def remove_special_characters(text):\n",
    "    tokens = tokenize_text(text)\n",
    "    pattern = re.compile('[{}]'.format(re.escape(string.punctuation)))\n",
    "    filtered_tokens = filter(None, [pattern.sub(' ', token) for token in tokens])\n",
    "    filtered_text = ' '.join(filtered_tokens)\n",
    "    return filtered_text\n",
    "    \n",
    "    \n",
    "def remove_stopwords(text):\n",
    "    tokens = tokenize_text(text)\n",
    "    filtered_tokens = [token for token in tokens if token not in stopword_list]\n",
    "    filtered_text = ' '.join(filtered_tokens)    \n",
    "    return filtered_text\n",
    "\n",
    "\n",
    "def unescape_html(parser, text):\n",
    "    \n",
    "    return parser.unescape(text)\n",
    "\n",
    "def normalize_corpus(corpus, lemmatize=True, tokenize=False):\n",
    "    \n",
    "    normalized_corpus = []  \n",
    "    for text in corpus:\n",
    "        text = html_parser.unescape(text)\n",
    "        text = expand_contractions(text, CONTRACTION_MAP)\n",
    "        if lemmatize:\n",
    "            text = lemmatize_text(text)\n",
    "        else:\n",
    "            text = text.lower()\n",
    "        text = remove_special_characters(text)\n",
    "        text = remove_stopwords(text)\n",
    "        if tokenize:\n",
    "            text = tokenize_text(text)\n",
    "            normalized_corpus.append(text)\n",
    "        else:\n",
    "            normalized_corpus.append(text)\n",
    "            \n",
    "    return normalized_corpus\n",
    "\n",
    "\n",
    "def parse_document(document):\n",
    "    document = re.sub('\\n', ' ', document)\n",
    "    if isinstance(document, str):\n",
    "        document = document\n",
    "    elif isinstance(document, unicode):\n",
    "        return unicodedata.normalize('NFKD', document).encode('ascii', 'ignore')\n",
    "    else:\n",
    "        raise ValueError('Document is not string or unicode!')\n",
    "    document = document.strip()\n",
    "    sentences = nltk.sent_tokenize(document)\n",
    "    sentences = [sentence.strip() for sentence in sentences]\n",
    "    return sentences\n",
    "    \n"
   ]
  },
  {
   "cell_type": "markdown",
   "metadata": {},
   "source": [
    "## Keyphrase Extraction\n"
   ]
  },
  {
   "cell_type": "markdown",
   "metadata": {},
   "source": [
    "### Collocations\n"
   ]
  },
  {
   "cell_type": "code",
   "execution_count": 2,
   "metadata": {
    "collapsed": true
   },
   "outputs": [],
   "source": [
    "from nltk.corpus import gutenberg\n",
    "#from normalization import normalize_corpus\n",
    "import nltk\n",
    "from operator import itemgetter\n"
   ]
  },
  {
   "cell_type": "code",
   "execution_count": 3,
   "metadata": {
    "collapsed": false
   },
   "outputs": [
    {
     "name": "stdout",
     "output_type": "stream",
     "text": [
      "alice adventures wonderland lewis carroll 1865\n"
     ]
    }
   ],
   "source": [
    "alice = gutenberg.sents(fileids='carroll-alice.txt')\n",
    "alice = [' '.join(ts) for ts in alice]\n",
    "norm_alice = filter(None, normalize_corpus(alice, lemmatize=False))\n",
    "\n",
    "# print first line\n",
    "print norm_alice[0]\n"
   ]
  },
  {
   "cell_type": "code",
   "execution_count": 4,
   "metadata": {
    "collapsed": true
   },
   "outputs": [],
   "source": [
    "def flatten_corpus(corpus):\n",
    "    return ' '.join([document.strip() \n",
    "                     for document in corpus])\n",
    "                         \n",
    "def compute_ngrams(sequence, n):\n",
    "    return zip(*[sequence[index:] \n",
    "                 for index in range(n)])\n",
    "\n",
    "\n",
    "def get_top_ngrams(corpus, ngram_val=1, limit=5):\n",
    "\n",
    "    corpus = flatten_corpus(corpus)\n",
    "    tokens = nltk.word_tokenize(corpus)\n",
    "\n",
    "    ngrams = compute_ngrams(tokens, ngram_val)\n",
    "    ngrams_freq_dist = nltk.FreqDist(ngrams)\n",
    "    sorted_ngrams_fd = sorted(ngrams_freq_dist.items(), \n",
    "                              key=itemgetter(1), reverse=True)\n",
    "    sorted_ngrams = sorted_ngrams_fd[0:limit]\n",
    "    sorted_ngrams = [(' '.join(text), freq) \n",
    "                     for text, freq in sorted_ngrams]\n",
    "\n",
    "    return sorted_ngrams   \n",
    "    \n"
   ]
  },
  {
   "cell_type": "code",
   "execution_count": 5,
   "metadata": {
    "collapsed": false
   },
   "outputs": [
    {
     "data": {
      "text/plain": [
       "[(u'said alice', 123),\n",
       " (u'mock turtle', 56),\n",
       " (u'march hare', 31),\n",
       " (u'said king', 29),\n",
       " (u'thought alice', 26),\n",
       " (u'said hatter', 22),\n",
       " (u'white rabbit', 22),\n",
       " (u'said mock', 20),\n",
       " (u'said gryphon', 18),\n",
       " (u'said caterpillar', 18)]"
      ]
     },
     "execution_count": 5,
     "metadata": {},
     "output_type": "execute_result"
    }
   ],
   "source": [
    "get_top_ngrams(corpus=norm_alice, ngram_val=2, limit=10)\n"
   ]
  },
  {
   "cell_type": "code",
   "execution_count": 6,
   "metadata": {
    "collapsed": false
   },
   "outputs": [
    {
     "data": {
      "text/plain": [
       "[(u'said mock turtle', 20),\n",
       " (u'said march hare', 10),\n",
       " (u'poor little thing', 6),\n",
       " (u'white kid gloves', 5),\n",
       " (u'little golden key', 5),\n",
       " (u'march hare said', 5),\n",
       " (u'certainly said alice', 5),\n",
       " (u'mock turtle said', 5),\n",
       " (u'mouse mouse mouse', 4),\n",
       " (u'join dance join', 4)]"
      ]
     },
     "execution_count": 6,
     "metadata": {},
     "output_type": "execute_result"
    }
   ],
   "source": [
    "get_top_ngrams(corpus=norm_alice, ngram_val=3, limit=10)\n"
   ]
  },
  {
   "cell_type": "code",
   "execution_count": 7,
   "metadata": {
    "collapsed": false
   },
   "outputs": [
    {
     "data": {
      "text/plain": [
       "[(u'said', u'alice'),\n",
       " (u'mock', u'turtle'),\n",
       " (u'march', u'hare'),\n",
       " (u'said', u'king'),\n",
       " (u'thought', u'alice'),\n",
       " (u'said', u'hatter'),\n",
       " (u'white', u'rabbit'),\n",
       " (u'said', u'mock'),\n",
       " (u'said', u'caterpillar'),\n",
       " (u'said', u'gryphon')]"
      ]
     },
     "execution_count": 7,
     "metadata": {},
     "output_type": "execute_result"
    }
   ],
   "source": [
    "from nltk.collocations import BigramCollocationFinder\n",
    "from nltk.collocations import BigramAssocMeasures\n",
    "\n",
    "finder = BigramCollocationFinder.from_documents([item.split() \n",
    "                                                for item \n",
    "                                                in norm_alice])\n",
    "bigram_measures = BigramAssocMeasures()                                                \n",
    "finder.nbest(bigram_measures.raw_freq, 10)\n"
   ]
  },
  {
   "cell_type": "code",
   "execution_count": 8,
   "metadata": {
    "collapsed": false
   },
   "outputs": [
    {
     "data": {
      "text/plain": [
       "[(u'abide', u'figures'),\n",
       " (u'acceptance', u'elegant'),\n",
       " (u'accounting', u'tastes'),\n",
       " (u'accustomed', u'usurpation'),\n",
       " (u'act', u'crawling'),\n",
       " (u'adjourn', u'immediate'),\n",
       " (u'adoption', u'energetic'),\n",
       " (u'affair', u'trusts'),\n",
       " (u'agony', u'terror'),\n",
       " (u'alarmed', u'proposal')]"
      ]
     },
     "execution_count": 8,
     "metadata": {},
     "output_type": "execute_result"
    }
   ],
   "source": [
    "finder.nbest(bigram_measures.pmi, 10)   \n"
   ]
  },
  {
   "cell_type": "code",
   "execution_count": 9,
   "metadata": {
    "collapsed": false
   },
   "outputs": [
    {
     "data": {
      "text/plain": [
       "[(u'said', u'mock', u'turtle'),\n",
       " (u'said', u'march', u'hare'),\n",
       " (u'poor', u'little', u'thing'),\n",
       " (u'little', u'golden', u'key'),\n",
       " (u'march', u'hare', u'said'),\n",
       " (u'mock', u'turtle', u'said'),\n",
       " (u'white', u'kid', u'gloves'),\n",
       " (u'beau', u'ootiful', u'soo'),\n",
       " (u'certainly', u'said', u'alice'),\n",
       " (u'might', u'well', u'say')]"
      ]
     },
     "execution_count": 9,
     "metadata": {},
     "output_type": "execute_result"
    }
   ],
   "source": [
    "from nltk.collocations import TrigramCollocationFinder\n",
    "from nltk.collocations import TrigramAssocMeasures\n",
    "\n",
    "finder = TrigramCollocationFinder.from_documents([item.split() \n",
    "                                                for item \n",
    "                                                in norm_alice])\n",
    "trigram_measures = TrigramAssocMeasures()                                                \n",
    "finder.nbest(trigram_measures.raw_freq, 10)\n"
   ]
  },
  {
   "cell_type": "code",
   "execution_count": 10,
   "metadata": {
    "collapsed": false,
    "scrolled": true
   },
   "outputs": [
    {
     "data": {
      "text/plain": [
       "[(u'accustomed', u'usurpation', u'conquest'),\n",
       " (u'adjourn', u'immediate', u'adoption'),\n",
       " (u'adoption', u'energetic', u'remedies'),\n",
       " (u'ancient', u'modern', u'seaography'),\n",
       " (u'apple', u'roast', u'turkey'),\n",
       " (u'arithmetic', u'ambition', u'distraction'),\n",
       " (u'brother', u'latin', u'grammar'),\n",
       " (u'canvas', u'bag', u'tied'),\n",
       " (u'cherry', u'tart', u'custard'),\n",
       " (u'circle', u'exact', u'shape')]"
      ]
     },
     "execution_count": 10,
     "metadata": {},
     "output_type": "execute_result"
    }
   ],
   "source": [
    "finder.nbest(trigram_measures.pmi, 10)  \n"
   ]
  },
  {
   "cell_type": "markdown",
   "metadata": {},
   "source": [
    "### Weighted Tag–Based Phrase Extraction\n"
   ]
  },
  {
   "cell_type": "code",
   "execution_count": 11,
   "metadata": {
    "collapsed": true
   },
   "outputs": [],
   "source": [
    "toy_text = \"\"\"\n",
    "Elephants are large mammals of the family Elephantidae \n",
    "and the order Proboscidea. Two species are traditionally recognised, \n",
    "the African elephant and the Asian elephant. Elephants are scattered \n",
    "throughout sub-Saharan Africa, South Asia, and Southeast Asia. Male \n",
    "African elephants are the largest extant terrestrial animals. All \n",
    "elephants have a long trunk used for many purposes, \n",
    "particularly breathing, lifting water and grasping objects. Their \n",
    "incisors grow into tusks, which can serve as weapons and as tools \n",
    "for moving objects and digging. Elephants' large ear flaps help \n",
    "to control their body temperature. Their pillar-like legs can \n",
    "carry their great weight. African elephants have larger ears \n",
    "and concave backs while Asian elephants have smaller ears \n",
    "and convex or level backs.  \n",
    "\"\"\"\n"
   ]
  },
  {
   "cell_type": "code",
   "execution_count": 12,
   "metadata": {
    "collapsed": false
   },
   "outputs": [],
   "source": [
    "#from normalization import parse_document\n",
    "import itertools\n",
    "import nltk\n",
    "#from normalization import stopword_list\n",
    "from gensim import corpora, models\n",
    "\n"
   ]
  },
  {
   "cell_type": "code",
   "execution_count": 13,
   "metadata": {
    "collapsed": false
   },
   "outputs": [
    {
     "name": "stdout",
     "output_type": "stream",
     "text": [
      "[['elephants', 'large mammals', 'family elephantidae', 'order proboscidea'], ['species', 'african elephant', 'asian elephant'], ['elephants', 'sub-saharan africa', 'south asia', 'southeast asia'], ['male african elephants', 'extant terrestrial animals'], ['elephants', 'long trunk', 'many purposes', 'breathing', 'water', 'grasping objects'], ['incisors', 'tusks', 'weapons', 'tools', 'objects', 'digging'], ['elephants', 'large ear flaps', 'body temperature'], ['pillar-like legs', 'great weight'], ['african elephants', 'ears', 'backs', 'asian elephants', 'ears', 'convex', 'level backs']]\n"
     ]
    }
   ],
   "source": [
    "def get_chunks(sentences, grammar = r'NP: {<DT>? <JJ>* <NN.*>+}'):\n",
    "    \n",
    "    all_chunks = []\n",
    "    chunker = nltk.chunk.regexp.RegexpParser(grammar)\n",
    "    \n",
    "    for sentence in sentences:\n",
    "        \n",
    "        tagged_sents = nltk.pos_tag_sents(\n",
    "                            [nltk.word_tokenize(sentence)])\n",
    "        \n",
    "        chunks = [chunker.parse(tagged_sent) \n",
    "                  for tagged_sent in tagged_sents]\n",
    "        \n",
    "        wtc_sents = [nltk.chunk.tree2conlltags(chunk)\n",
    "                     for chunk in chunks]    \n",
    "         \n",
    "        flattened_chunks = list(\n",
    "                            itertools.chain.from_iterable(\n",
    "                                wtc_sent for wtc_sent in wtc_sents)\n",
    "                           )\n",
    "        \n",
    "        valid_chunks_tagged = [(status, [wtc for wtc in chunk]) \n",
    "                        for status, chunk \n",
    "                        in itertools.groupby(flattened_chunks, \n",
    "                                             lambda (word,pos,chunk): chunk != 'O')]\n",
    "        \n",
    "        valid_chunks = [' '.join(word.lower() \n",
    "                                for word, tag, chunk \n",
    "                                in wtc_group \n",
    "                                    if word.lower() \n",
    "                                        not in stopword_list) \n",
    "                                    for status, wtc_group \n",
    "                                    in valid_chunks_tagged\n",
    "                                        if status]\n",
    "                                            \n",
    "        all_chunks.append(valid_chunks)\n",
    "    \n",
    "    return all_chunks\n",
    "    \n",
    "sentences = parse_document(toy_text)          \n",
    "valid_chunks = get_chunks(sentences)\n",
    "print valid_chunks\n"
   ]
  },
  {
   "cell_type": "code",
   "execution_count": 14,
   "metadata": {
    "collapsed": false
   },
   "outputs": [
    {
     "data": {
      "text/plain": [
       "[(u'pillar-like legs', 0.707),\n",
       " (u'male african elephants', 0.707),\n",
       " (u'great weight', 0.707),\n",
       " (u'extant terrestrial animals', 0.707),\n",
       " (u'large ear flaps', 0.684),\n",
       " (u'body temperature', 0.684),\n",
       " (u'ears', 0.667),\n",
       " (u'species', 0.577),\n",
       " (u'african elephant', 0.577),\n",
       " (u'asian elephant', 0.577)]"
      ]
     },
     "execution_count": 14,
     "metadata": {},
     "output_type": "execute_result"
    }
   ],
   "source": [
    "def get_tfidf_weighted_keyphrases(sentences, \n",
    "                                  grammar=r'NP: {<DT>? <JJ>* <NN.*>+}',\n",
    "                                  top_n=10):\n",
    "    \n",
    "    valid_chunks = get_chunks(sentences, grammar=grammar)\n",
    "                                     \n",
    "    dictionary = corpora.Dictionary(valid_chunks)\n",
    "    corpus = [dictionary.doc2bow(chunk) for chunk in valid_chunks]\n",
    "    \n",
    "    tfidf = models.TfidfModel(corpus)\n",
    "    corpus_tfidf = tfidf[corpus]\n",
    "    \n",
    "    weighted_phrases = {dictionary.get(id): round(value,3) \n",
    "                        for doc in corpus_tfidf \n",
    "                        for id, value in doc}\n",
    "                            \n",
    "    weighted_phrases = sorted(weighted_phrases.items(), \n",
    "                              key=itemgetter(1), reverse=True)\n",
    "    \n",
    "    return weighted_phrases[:top_n]\n",
    "    \n",
    "get_tfidf_weighted_keyphrases(sentences, top_n=10)\n"
   ]
  },
  {
   "cell_type": "code",
   "execution_count": 15,
   "metadata": {
    "collapsed": false
   },
   "outputs": [
    {
     "data": {
      "text/plain": [
       "[(u'pardon', 1.0),\n",
       " (u'lory', 1.0),\n",
       " (u'piece round', 1.0),\n",
       " (u'pinch', 1.0),\n",
       " (u'dead silence', 1.0),\n",
       " (u'little sisters', 1.0),\n",
       " (u'changes', 1.0),\n",
       " (u'driest thing', 1.0),\n",
       " (u'another dead silence', 1.0),\n",
       " (u'narrow escape', 1.0)]"
      ]
     },
     "execution_count": 15,
     "metadata": {},
     "output_type": "execute_result"
    }
   ],
   "source": [
    "# try on other corpora!\n",
    "get_tfidf_weighted_keyphrases(alice, top_n=10)\n",
    "    \n"
   ]
  },
  {
   "cell_type": "markdown",
   "metadata": {},
   "source": [
    "## Topic Modeling\n"
   ]
  },
  {
   "cell_type": "code",
   "execution_count": 16,
   "metadata": {
    "collapsed": true
   },
   "outputs": [],
   "source": [
    "from gensim import corpora, models\n",
    "#from normalization import normalize_corpus\n",
    "import numpy as np\n"
   ]
  },
  {
   "cell_type": "code",
   "execution_count": 17,
   "metadata": {
    "collapsed": true
   },
   "outputs": [],
   "source": [
    "toy_corpus = [\"The fox jumps over the dog\",\n",
    "\"The fox is very clever and quick\",\n",
    "\"The dog is slow and lazy\",\n",
    "\"The cat is smarter than the fox and the dog\",\n",
    "\"Python is an excellent programming language\",\n",
    "\"Java and Ruby are other programming languages\",\n",
    "\"Python and Java are very popular programming languages\",\n",
    "\"Python programs are smaller than Java programs\"]\n"
   ]
  },
  {
   "cell_type": "markdown",
   "metadata": {},
   "source": [
    "### Latent Semantic Indexing\n"
   ]
  },
  {
   "cell_type": "code",
   "execution_count": 18,
   "metadata": {
    "collapsed": false
   },
   "outputs": [
    {
     "data": {
      "text/plain": [
       "[[u'fox', u'jump', u'dog'],\n",
       " [u'fox', u'clever', u'quick'],\n",
       " [u'dog', u'slow', u'lazy'],\n",
       " [u'cat', u'smarter', u'fox', u'dog'],\n",
       " [u'python', u'excellent', u'programming', u'language'],\n",
       " [u'java', u'ruby', u'programming', u'language'],\n",
       " [u'python', u'java', u'popular', u'programming', u'language'],\n",
       " [u'python', u'program', u'small', u'java', u'program']]"
      ]
     },
     "execution_count": 18,
     "metadata": {},
     "output_type": "execute_result"
    }
   ],
   "source": [
    "# LSI topic model\n",
    "norm_tokenized_corpus = normalize_corpus(toy_corpus, tokenize=True)\n",
    "norm_tokenized_corpus\n"
   ]
  },
  {
   "cell_type": "code",
   "execution_count": 19,
   "metadata": {
    "collapsed": false
   },
   "outputs": [
    {
     "name": "stdout",
     "output_type": "stream",
     "text": [
      "{u'program': 17, u'lazy': 5, u'clever': 4, u'java': 13, u'programming': 10, u'language': 11, u'python': 9, u'smarter': 7, u'fox': 1, u'dog': 2, u'cat': 8, u'jump': 0, u'popular': 15, u'slow': 6, u'excellent': 12, u'quick': 3, u'small': 16, u'ruby': 14}\n"
     ]
    }
   ],
   "source": [
    "dictionary = corpora.Dictionary(norm_tokenized_corpus)\n",
    "print dictionary.token2id\n"
   ]
  },
  {
   "cell_type": "code",
   "execution_count": 20,
   "metadata": {
    "collapsed": false
   },
   "outputs": [
    {
     "data": {
      "text/plain": [
       "[[(0, 1), (1, 1), (2, 1)],\n",
       " [(1, 1), (3, 1), (4, 1)],\n",
       " [(2, 1), (5, 1), (6, 1)],\n",
       " [(1, 1), (2, 1), (7, 1), (8, 1)],\n",
       " [(9, 1), (10, 1), (11, 1), (12, 1)],\n",
       " [(10, 1), (11, 1), (13, 1), (14, 1)],\n",
       " [(9, 1), (10, 1), (11, 1), (13, 1), (15, 1)],\n",
       " [(9, 1), (13, 1), (16, 1), (17, 2)]]"
      ]
     },
     "execution_count": 20,
     "metadata": {},
     "output_type": "execute_result"
    }
   ],
   "source": [
    "corpus = [dictionary.doc2bow(text) for text in norm_tokenized_corpus]\n",
    "corpus\n"
   ]
  },
  {
   "cell_type": "code",
   "execution_count": 21,
   "metadata": {
    "collapsed": false
   },
   "outputs": [
    {
     "name": "stdout",
     "output_type": "stream",
     "text": [
      "Topic #1\n",
      "0.459*\"programming\" + 0.459*\"language\" + 0.344*\"java\" + 0.344*\"python\" + 0.336*\"popular\" + 0.318*\"ruby\" + 0.318*\"excellent\" + 0.148*\"program\" + 0.074*\"small\" + -0.000*\"jump\"\n",
      "\n",
      "Topic #2\n",
      "0.459*\"dog\" + 0.459*\"fox\" + 0.444*\"jump\" + 0.322*\"cat\" + 0.322*\"smarter\" + 0.208*\"slow\" + 0.208*\"lazy\" + 0.208*\"quick\" + 0.208*\"clever\" + 0.000*\"program\"\n",
      "\n"
     ]
    }
   ],
   "source": [
    "tfidf = models.TfidfModel(corpus)\n",
    "corpus_tfidf = tfidf[corpus]\n",
    "\n",
    "total_topics = 2\n",
    "\n",
    "lsi = models.LsiModel(corpus_tfidf, \n",
    "                      id2word=dictionary, \n",
    "                      num_topics=total_topics)\n",
    "                      \n",
    "for index, topic in lsi.print_topics(total_topics):\n",
    "    print 'Topic #'+str(index+1)\n",
    "    print topic\n",
    "    print              \n"
   ]
  },
  {
   "cell_type": "code",
   "execution_count": 22,
   "metadata": {
    "collapsed": true
   },
   "outputs": [],
   "source": [
    "def print_topics_gensim(topic_model, total_topics=1,\n",
    "                        weight_threshold=0.0001,\n",
    "                        display_weights=False,\n",
    "                        num_terms=None):\n",
    "    \n",
    "    for index in range(total_topics):\n",
    "        topic = topic_model.show_topic(index)\n",
    "        topic = [(word, round(wt,2)) \n",
    "                 for word, wt in topic \n",
    "                 if abs(wt) >= weight_threshold]\n",
    "        if display_weights:\n",
    "            print 'Topic #'+str(index+1)+' with weights'\n",
    "            print topic[:num_terms] if num_terms else topic\n",
    "        else:\n",
    "            print 'Topic #'+str(index+1)+' without weights'\n",
    "            tw = [term for term, wt in topic]\n",
    "            print tw[:num_terms] if num_terms else tw\n",
    "        print\n"
   ]
  },
  {
   "cell_type": "code",
   "execution_count": 23,
   "metadata": {
    "collapsed": false
   },
   "outputs": [
    {
     "name": "stdout",
     "output_type": "stream",
     "text": [
      "Topic #1 with weights\n",
      "[(u'programming', 0.46), (u'language', 0.46), (u'java', 0.34), (u'python', 0.34), (u'popular', 0.34)]\n",
      "\n",
      "Topic #2 with weights\n",
      "[(u'dog', 0.46), (u'fox', 0.46), (u'jump', 0.44), (u'cat', 0.32), (u'smarter', 0.32)]\n",
      "\n"
     ]
    }
   ],
   "source": [
    "print_topics_gensim(topic_model=lsi,\n",
    "                    total_topics=total_topics,\n",
    "                    num_terms=5,\n",
    "                    display_weights=True)\n"
   ]
  },
  {
   "cell_type": "code",
   "execution_count": 24,
   "metadata": {
    "collapsed": true
   },
   "outputs": [],
   "source": [
    "def get_topics_terms_weights(weights, feature_names):\n",
    "    feature_names = np.array(feature_names)\n",
    "    sorted_indices = np.array([list(row[::-1]) \n",
    "                           for row \n",
    "                           in np.argsort(np.abs(weights))])\n",
    "    sorted_weights = np.array([list(wt[index]) \n",
    "                               for wt, index \n",
    "                               in zip(weights,sorted_indices)])\n",
    "    sorted_terms = np.array([list(feature_names[row]) \n",
    "                             for row \n",
    "                             in sorted_indices])\n",
    "    \n",
    "    topics = [np.vstack((terms.T, \n",
    "                     term_weights.T)).T \n",
    "              for terms, term_weights \n",
    "              in zip(sorted_terms, sorted_weights)]     \n",
    "    \n",
    "    return topics            \n",
    "  \n",
    "                       \n",
    "def print_topics_udf(topics, total_topics=1,\n",
    "                     weight_threshold=0.0001,\n",
    "                     display_weights=False,\n",
    "                     num_terms=None):\n",
    "    \n",
    "    for index in range(total_topics):\n",
    "        topic = topics[index]\n",
    "        topic = [(term, float(wt))\n",
    "                 for term, wt in topic]\n",
    "        topic = [(word, round(wt,2)) \n",
    "                 for word, wt in topic \n",
    "                 if abs(wt) >= weight_threshold]\n",
    "                     \n",
    "        if display_weights:\n",
    "            print 'Topic #'+str(index+1)+' with weights'\n",
    "            print topic[:num_terms] if num_terms else topic\n",
    "        else:\n",
    "            print 'Topic #'+str(index+1)+' without weights'\n",
    "            tw = [term for term, wt in topic]\n",
    "            print tw[:num_terms] if num_terms else tw\n",
    "        print\n"
   ]
  },
  {
   "cell_type": "code",
   "execution_count": 25,
   "metadata": {
    "collapsed": true
   },
   "outputs": [],
   "source": [
    "# LSI custom built topic model    \n",
    "from utils import build_feature_matrix, low_rank_svd\n",
    "\n",
    "norm_corpus = normalize_corpus(toy_corpus)\n",
    "\n",
    "vectorizer, tfidf_matrix = build_feature_matrix(norm_corpus, \n",
    "                                    feature_type='tfidf')\n",
    "td_matrix = tfidf_matrix.transpose()\n",
    "                              \n",
    "td_matrix = td_matrix.multiply(td_matrix > 0)\n",
    "\n",
    "total_topics = 2\n",
    "feature_names = vectorizer.get_feature_names()\n",
    "\n",
    "u, s, vt = low_rank_svd(td_matrix, singular_count=total_topics)\n",
    "weights = u.transpose() * s[:, None]\n"
   ]
  },
  {
   "cell_type": "code",
   "execution_count": 26,
   "metadata": {
    "collapsed": false
   },
   "outputs": [
    {
     "name": "stdout",
     "output_type": "stream",
     "text": [
      "Topic #1 without weights\n",
      "[u'dog', u'fox', u'jump', u'smarter', u'cat', u'slow', u'lazy', u'quick', u'clever']\n",
      "\n",
      "Topic #2 without weights\n",
      "[u'programming', u'language', u'java', u'python', u'popular', u'ruby', u'excellent', u'program']\n",
      "\n"
     ]
    }
   ],
   "source": [
    "topics = get_topics_terms_weights(weights, feature_names)        \n",
    "print_topics_udf(topics=topics,\n",
    "                 total_topics=total_topics,\n",
    "                 weight_threshold=0.15,\n",
    "                 display_weights=False)\n"
   ]
  },
  {
   "cell_type": "code",
   "execution_count": 27,
   "metadata": {
    "collapsed": true
   },
   "outputs": [],
   "source": [
    "def train_lsi_model_gensim(corpus, total_topics=2):\n",
    "    \n",
    "    norm_tokenized_corpus = normalize_corpus(corpus, tokenize=True)\n",
    "    dictionary = corpora.Dictionary(norm_tokenized_corpus)\n",
    "    mapped_corpus = [dictionary.doc2bow(text) \n",
    "                     for text in norm_tokenized_corpus]\n",
    "    tfidf = models.TfidfModel(mapped_corpus)\n",
    "    corpus_tfidf = tfidf[mapped_corpus]\n",
    "    lsi = models.LsiModel(corpus_tfidf, \n",
    "                          id2word=dictionary,\n",
    "                          num_topics=total_topics)\n",
    "    return lsi\n",
    " \n",
    "\n",
    "\n",
    "\n"
   ]
  },
  {
   "cell_type": "markdown",
   "metadata": {},
   "source": [
    "### Latent Dirichlet Allocation\n"
   ]
  },
  {
   "cell_type": "code",
   "execution_count": 28,
   "metadata": {
    "collapsed": true
   },
   "outputs": [],
   "source": [
    "\n",
    "def train_lda_model_gensim(corpus, total_topics=2):\n",
    "    \n",
    "    norm_tokenized_corpus = normalize_corpus(corpus, tokenize=True)\n",
    "    dictionary = corpora.Dictionary(norm_tokenized_corpus)\n",
    "    mapped_corpus = [dictionary.doc2bow(text) \n",
    "                     for text in norm_tokenized_corpus]\n",
    "    tfidf = models.TfidfModel(mapped_corpus)\n",
    "    corpus_tfidf = tfidf[mapped_corpus]\n",
    "    lda = models.LdaModel(corpus_tfidf, \n",
    "                          id2word=dictionary,\n",
    "                          iterations=1000,\n",
    "                          num_topics=total_topics)\n",
    "    return lda                     \n"
   ]
  },
  {
   "cell_type": "code",
   "execution_count": 29,
   "metadata": {
    "collapsed": false
   },
   "outputs": [
    {
     "name": "stdout",
     "output_type": "stream",
     "text": [
      "Topic #1 with weights\n",
      "[(u'dog', 0.07), (u'fox', 0.07), (u'ruby', 0.07), (u'jump', 0.07), (u'slow', 0.06)]\n",
      "\n",
      "Topic #2 with weights\n",
      "[(u'program', 0.08), (u'python', 0.08), (u'excellent', 0.07), (u'programming', 0.07), (u'language', 0.07)]\n",
      "\n"
     ]
    }
   ],
   "source": [
    "lda_gensim = train_lda_model_gensim(toy_corpus,\n",
    "                                    total_topics=2)\n",
    "                                    \n",
    "print_topics_gensim(topic_model=lda_gensim,\n",
    "                    total_topics=2,\n",
    "                    num_terms=5,\n",
    "                    display_weights=True)                                    \n"
   ]
  },
  {
   "cell_type": "code",
   "execution_count": 30,
   "metadata": {
    "collapsed": false
   },
   "outputs": [
    {
     "data": {
      "text/plain": [
       "LatentDirichletAllocation(batch_size=128, doc_topic_prior=None,\n",
       "             evaluate_every=-1, learning_decay=0.7,\n",
       "             learning_method='online', learning_offset=50.0,\n",
       "             max_doc_update_iter=100, max_iter=1000, mean_change_tol=0.001,\n",
       "             n_jobs=1, n_topics=2, perp_tol=0.1, random_state=42,\n",
       "             topic_word_prior=None, total_samples=1000000.0, verbose=0)"
      ]
     },
     "execution_count": 30,
     "metadata": {},
     "output_type": "execute_result"
    }
   ],
   "source": [
    "from sklearn.decomposition import LatentDirichletAllocation\n",
    "\n",
    "norm_corpus = normalize_corpus(toy_corpus)\n",
    "vectorizer, tfidf_matrix = build_feature_matrix(norm_corpus, \n",
    "                                    feature_type='tfidf')                     \n",
    "total_topics = 2\n",
    "lda = LatentDirichletAllocation(n_topics=total_topics, \n",
    "                                max_iter=1000,\n",
    "                                learning_method='online', \n",
    "                                learning_offset=50.,\n",
    "                                random_state=42)\n",
    "lda.fit(tfidf_matrix)\n"
   ]
  },
  {
   "cell_type": "code",
   "execution_count": 31,
   "metadata": {
    "collapsed": false,
    "scrolled": true
   },
   "outputs": [
    {
     "name": "stdout",
     "output_type": "stream",
     "text": [
      "Topic #1 with weights\n",
      "[(u'fox', 1.86), (u'dog', 1.86), (u'jump', 1.19), (u'clever', 1.12), (u'quick', 1.12), (u'lazy', 1.12), (u'slow', 1.12), (u'cat', 1.06)]\n",
      "\n",
      "Topic #2 with weights\n",
      "[(u'programming', 1.8), (u'language', 1.8), (u'java', 1.64), (u'python', 1.64), (u'program', 1.3), (u'ruby', 1.11), (u'excellent', 1.11), (u'popular', 1.06)]\n",
      "\n"
     ]
    }
   ],
   "source": [
    "feature_names = vectorizer.get_feature_names()\n",
    "weights = lda.components_\n",
    "\n",
    "topics = get_topics_terms_weights(weights, feature_names)\n",
    "print_topics_udf(topics=topics,\n",
    "                 total_topics=total_topics,\n",
    "                 num_terms=8,\n",
    "                 display_weights=True)\n"
   ]
  },
  {
   "cell_type": "markdown",
   "metadata": {},
   "source": [
    "### Non-negative Matrix Factorization\n"
   ]
  },
  {
   "cell_type": "code",
   "execution_count": 32,
   "metadata": {
    "collapsed": false
   },
   "outputs": [
    {
     "data": {
      "text/plain": [
       "NMF(alpha=0.1, beta=1, eta=0.1, init=None, l1_ratio=0.5, max_iter=200,\n",
       "  n_components=2, nls_max_iter=2000, random_state=42, shuffle=False,\n",
       "  solver='cd', sparseness=None, tol=0.0001, verbose=0)"
      ]
     },
     "execution_count": 32,
     "metadata": {},
     "output_type": "execute_result"
    }
   ],
   "source": [
    "from sklearn.decomposition import NMF\n",
    "\n",
    "norm_corpus = normalize_corpus(toy_corpus)\n",
    "vectorizer, tfidf_matrix = build_feature_matrix(norm_corpus, \n",
    "                                    feature_type='tfidf')                     \n",
    "total_topics = 2\n",
    "nmf = NMF(n_components=total_topics, \n",
    "          random_state=42, alpha=.1, l1_ratio=.5)\n",
    "nmf.fit(tfidf_matrix)      \n"
   ]
  },
  {
   "cell_type": "code",
   "execution_count": 33,
   "metadata": {
    "collapsed": false
   },
   "outputs": [
    {
     "name": "stdout",
     "output_type": "stream",
     "text": [
      "Topic #1 with weights\n",
      "[(u'programming', 0.55), (u'language', 0.55), (u'python', 0.4), (u'java', 0.4), (u'popular', 0.24), (u'ruby', 0.23), (u'excellent', 0.23), (u'program', 0.09), (u'small', 0.03)]\n",
      "\n",
      "Topic #2 with weights\n",
      "[(u'dog', 0.57), (u'fox', 0.57), (u'jump', 0.35), (u'smarter', 0.26), (u'cat', 0.26), (u'quick', 0.13), (u'slow', 0.13), (u'clever', 0.13), (u'lazy', 0.13)]\n",
      "\n"
     ]
    }
   ],
   "source": [
    "feature_names = vectorizer.get_feature_names()\n",
    "weights = nmf.components_\n",
    "\n",
    "topics = get_topics_terms_weights(weights, feature_names)\n",
    "print_topics_udf(topics=topics,\n",
    "                 total_topics=total_topics,\n",
    "                 num_terms=None,\n",
    "                 display_weights=True)   \n"
   ]
  },
  {
   "cell_type": "markdown",
   "metadata": {},
   "source": [
    "### Extracting Topics from Product Reviews\n"
   ]
  },
  {
   "cell_type": "code",
   "execution_count": 34,
   "metadata": {
    "collapsed": false
   },
   "outputs": [],
   "source": [
    "import pandas as pd\n",
    "import numpy as np \n",
    "                 \n",
    "CORPUS = pd.read_csv('amazon_skyrim_reviews.csv')                     \n",
    "CORPUS = np.array(CORPUS['Reviews'])\n"
   ]
  },
  {
   "cell_type": "code",
   "execution_count": 35,
   "metadata": {
    "collapsed": false
   },
   "outputs": [
    {
     "name": "stdout",
     "output_type": "stream",
     "text": [
      "I base the value of a game on the amount of enjoyable gameplay I can get out of it and this one was definitely worth the price!\n"
     ]
    }
   ],
   "source": [
    "# view sample review\n",
    "print CORPUS[12]\n"
   ]
  },
  {
   "cell_type": "code",
   "execution_count": 36,
   "metadata": {
    "collapsed": false
   },
   "outputs": [
    {
     "name": "stdout",
     "output_type": "stream",
     "text": [
      "Topic #1 without weights\n",
      "[u'skyrim', u'one', u'quest', u'like', u'play', u'oblivion', u'go', u'get', u'time', u'level']\n",
      "\n",
      "Topic #2 without weights\n",
      "[u'recommend', u'love', u'ever', u'best', u'great', u'level', u'highly', u'play', u'elder', u'scroll']\n",
      "\n",
      "Topic #3 without weights\n",
      "[u'recommend', u'fun', u'highly', u'love', u'ever', u'wonderful', u'scroll', u'series', u'best', u'elder']\n",
      "\n",
      "Topic #4 without weights\n",
      "[u'fun', u'scroll', u'elder', u'recommend', u'highly', u'wonderful', u'series', u'cool', u'graphic', u'best']\n",
      "\n",
      "Topic #5 without weights\n",
      "[u'fun', u'love', u'scroll', u'elder', u'highly', u'5', u'dont', u'gameplay', u'hundred', u'hour']\n",
      "\n"
     ]
    }
   ],
   "source": [
    "total_topics = 5\n",
    "        \n",
    "lsi_gensim = train_lsi_model_gensim(CORPUS,\n",
    "                                    total_topics=total_topics)\n",
    "print_topics_gensim(topic_model=lsi_gensim,\n",
    "                    total_topics=total_topics,\n",
    "                    num_terms=10,\n",
    "                    display_weights=False) \n"
   ]
  },
  {
   "cell_type": "code",
   "execution_count": 37,
   "metadata": {
    "collapsed": false
   },
   "outputs": [
    {
     "name": "stdout",
     "output_type": "stream",
     "text": [
      "Topic #1 without weights\n",
      "[u'skyrim', u'much', u'quest', u'buy', u'time', u'hour', u'enjoy', u'get', u'world', u'best']\n",
      "\n",
      "Topic #2 without weights\n",
      "[u'long', u'buy', u'amazing', u'play', u'great', u'time', u'love', u'one', u'really', u'save']\n",
      "\n",
      "Topic #3 without weights\n",
      "[u'love', u'play', u'best', u'one', u'elder', u'scroll', u'like', u'get', u'still', u'oblivion']\n",
      "\n",
      "Topic #4 without weights\n",
      "[u'skyrim', u'oblivion', u'play', u'good', u'quest', u'like', u'time', u'level', u'one', u'want']\n",
      "\n",
      "Topic #5 without weights\n",
      "[u'great', u'fun', u'love', u'get', u'play', u'hour', u'one', u'good', u'ever', u'graphic']\n",
      "\n"
     ]
    }
   ],
   "source": [
    "lda_gensim = train_lda_model_gensim(CORPUS,\n",
    "                                    total_topics=total_topics)\n",
    "print_topics_gensim(topic_model=lda_gensim,\n",
    "                    total_topics=total_topics,\n",
    "                    num_terms=10,\n",
    "                    display_weights=False) \n"
   ]
  },
  {
   "cell_type": "code",
   "execution_count": 38,
   "metadata": {
    "collapsed": true
   },
   "outputs": [],
   "source": [
    "norm_corpus = normalize_corpus(CORPUS)\n",
    "vectorizer, tfidf_matrix = build_feature_matrix(norm_corpus, \n",
    "                                    feature_type='tfidf') \n",
    "feature_names = vectorizer.get_feature_names()\n",
    "\n",
    "\n",
    "lda = LatentDirichletAllocation(n_topics=total_topics, \n",
    "                                max_iter=1000,\n",
    "                                learning_method='online', \n",
    "                                learning_offset=10.,\n",
    "                                random_state=42)\n"
   ]
  },
  {
   "cell_type": "code",
   "execution_count": 39,
   "metadata": {
    "collapsed": false
   },
   "outputs": [
    {
     "data": {
      "text/plain": [
       "LatentDirichletAllocation(batch_size=128, doc_topic_prior=None,\n",
       "             evaluate_every=-1, learning_decay=0.7,\n",
       "             learning_method='online', learning_offset=10.0,\n",
       "             max_doc_update_iter=100, max_iter=1000, mean_change_tol=0.001,\n",
       "             n_jobs=1, n_topics=5, perp_tol=0.1, random_state=42,\n",
       "             topic_word_prior=None, total_samples=1000000.0, verbose=0)"
      ]
     },
     "execution_count": 39,
     "metadata": {},
     "output_type": "execute_result"
    }
   ],
   "source": [
    "lda.fit(tfidf_matrix)\n"
   ]
  },
  {
   "cell_type": "code",
   "execution_count": 40,
   "metadata": {
    "collapsed": false
   },
   "outputs": [
    {
     "name": "stdout",
     "output_type": "stream",
     "text": [
      "Topic #1 without weights\n",
      "[u'estatic', u'booklet', u'wonder4ful', u'electricity', u'heat', u'trhats', u'amazingly', u'interfere', u'chirstmas', u'12yr']\n",
      "\n",
      "Topic #2 without weights\n",
      "[u'game', u'play', u'get', u'one', u'skyrim', u'great', u'like', u'time', u'quest', u'much']\n",
      "\n",
      "Topic #3 without weights\n",
      "[u'de', u'pagar', u'cr\\xe9dito', u'momento', u'compras', u'responsabilidad', u'para', u'recomiendo', u'futuras', u'skyrimseguridad']\n",
      "\n",
      "Topic #4 without weights\n",
      "[u'booklet', u'estatic', u'wonder4ful', u'electricity', u'heat', u'trhats', u'amazingly', u'interfere', u'chirstmas', u'12yr']\n",
      "\n",
      "Topic #5 without weights\n",
      "[u'estatic', u'booklet', u'wonder4ful', u'electricity', u'trhats', u'heat', u'amazingly', u'interfere', u'chirstmas', u'12yr']\n",
      "\n"
     ]
    }
   ],
   "source": [
    "weights = lda.components_\n",
    "topics = get_topics_terms_weights(weights, feature_names)\n",
    "print_topics_udf(topics=topics,\n",
    "                 total_topics=total_topics,\n",
    "                 num_terms=10,\n",
    "                 display_weights=False)\n"
   ]
  },
  {
   "cell_type": "code",
   "execution_count": 41,
   "metadata": {
    "collapsed": false
   },
   "outputs": [
    {
     "data": {
      "text/plain": [
       "NMF(alpha=0.1, beta=1, eta=0.1, init=None, l1_ratio=0.5, max_iter=200,\n",
       "  n_components=5, nls_max_iter=2000, random_state=42, shuffle=False,\n",
       "  solver='cd', sparseness=None, tol=0.0001, verbose=0)"
      ]
     },
     "execution_count": 41,
     "metadata": {},
     "output_type": "execute_result"
    }
   ],
   "source": [
    "nmf = NMF(n_components=total_topics, \n",
    "          random_state=42, alpha=.1, l1_ratio=.5)\n",
    "nmf.fit(tfidf_matrix)      \n"
   ]
  },
  {
   "cell_type": "code",
   "execution_count": 42,
   "metadata": {
    "collapsed": false
   },
   "outputs": [
    {
     "name": "stdout",
     "output_type": "stream",
     "text": [
      "Topic #1 without weights\n",
      "[u'game', u'get', u'skyrim', u'play', u'time', u'like', u'quest', u'one', u'go', u'much']\n",
      "\n",
      "Topic #2 without weights\n",
      "[u'game', u'best', u'ever', u'fun', u'play', u'hour', u'great', u'rpg', u'definitely', u'one']\n",
      "\n",
      "Topic #3 without weights\n",
      "[u'write', u'review', u'describe', u'justice', u'word', u'game', u'simply', u'try', u'period', u'really']\n",
      "\n",
      "Topic #4 without weights\n",
      "[u'scroll', u'elder', u'series', u'always', u'love', u'pass', u'buy', u'franchise', u'game', u'best']\n",
      "\n",
      "Topic #5 without weights\n",
      "[u'recommend', u'love', u'game', u'highly', u'great', u'play', u'wonderful', u'like', u'oblivion', u'would']\n",
      "\n"
     ]
    }
   ],
   "source": [
    "feature_names = vectorizer.get_feature_names()\n",
    "weights = nmf.components_\n",
    "\n",
    "topics = get_topics_terms_weights(weights, feature_names)\n",
    "print_topics_udf(topics=topics,\n",
    "                 total_topics=total_topics,\n",
    "                 num_terms=10,\n",
    "                 display_weights=False)                                       "
   ]
  },
  {
   "cell_type": "markdown",
   "metadata": {},
   "source": [
    "## Automated Document Summarization\n"
   ]
  },
  {
   "cell_type": "code",
   "execution_count": 43,
   "metadata": {
    "collapsed": true
   },
   "outputs": [],
   "source": [
    "#from normalization import normalize_corpus, parse_document\n",
    "from utils import build_feature_matrix, low_rank_svd\n",
    "import numpy as np\n"
   ]
  },
  {
   "cell_type": "code",
   "execution_count": 44,
   "metadata": {
    "collapsed": true
   },
   "outputs": [],
   "source": [
    "toy_text = \"\"\"\n",
    "Elephants are large mammals of the family Elephantidae \n",
    "and the order Proboscidea. Two species are traditionally recognised, \n",
    "the African elephant and the Asian elephant. Elephants are scattered \n",
    "throughout sub-Saharan Africa, South Asia, and Southeast Asia. Male \n",
    "African elephants are the largest extant terrestrial animals. All \n",
    "elephants have a long trunk used for many purposes, \n",
    "particularly breathing, lifting water and grasping objects. Their \n",
    "incisors grow into tusks, which can serve as weapons and as tools \n",
    "for moving objects and digging. Elephants' large ear flaps help \n",
    "to control their body temperature. Their pillar-like legs can \n",
    "carry their great weight. African elephants have larger ears \n",
    "and concave backs while Asian elephants have smaller ears \n",
    "and convex or level backs.  \n",
    "\"\"\"\n"
   ]
  },
  {
   "cell_type": "code",
   "execution_count": 45,
   "metadata": {
    "collapsed": false
   },
   "outputs": [
    {
     "name": "stdout",
     "output_type": "stream",
     "text": [
      "Two species are traditionally recognised,  the African elephant and the Asian elephant.\n",
      "All  elephants have a long trunk used for many purposes,  particularly breathing, lifting water and grasping objects.\n",
      "African elephants have larger ears  and concave backs while Asian elephants have smaller ears  and convex or level backs.\n"
     ]
    }
   ],
   "source": [
    "from gensim.summarization import summarize, keywords\n",
    "\n",
    "def text_summarization_gensim(text, summary_ratio=0.5):\n",
    "    \n",
    "    summary = summarize(text, split=True, ratio=summary_ratio)\n",
    "    for sentence in summary:\n",
    "        print sentence\n",
    "\n",
    "docs = parse_document(toy_text)\n",
    "text = ' '.join(docs)\n",
    "text_summarization_gensim(text, summary_ratio=0.4)\n"
   ]
  },
  {
   "cell_type": "code",
   "execution_count": 46,
   "metadata": {
    "collapsed": false
   },
   "outputs": [
    {
     "name": "stdout",
     "output_type": "stream",
     "text": [
      "Total Sentences in Document: 9\n"
     ]
    }
   ],
   "source": [
    "sentences = parse_document(toy_text)\n",
    "norm_sentences = normalize_corpus(sentences,lemmatize=False) \n",
    "\n",
    "total_sentences = len(norm_sentences)\n",
    "print 'Total Sentences in Document:', total_sentences   \n"
   ]
  },
  {
   "cell_type": "markdown",
   "metadata": {},
   "source": [
    "### Latent Semantic Analysis\n"
   ]
  },
  {
   "cell_type": "code",
   "execution_count": 47,
   "metadata": {
    "collapsed": false
   },
   "outputs": [
    {
     "name": "stdout",
     "output_type": "stream",
     "text": [
      "[ 2.02  2.07  1.53  1.4   2.1   4.48  0.7   1.2   4.65]\n"
     ]
    }
   ],
   "source": [
    "num_sentences = 3\n",
    "num_topics = 2\n",
    "\n",
    "vec, dt_matrix = build_feature_matrix(sentences, \n",
    "                                      feature_type='frequency')\n",
    "\n",
    "td_matrix = dt_matrix.transpose()\n",
    "td_matrix = td_matrix.multiply(td_matrix > 0)\n",
    "\n",
    "u, s, vt = low_rank_svd(td_matrix, singular_count=num_topics)  \n",
    "                                         \n",
    "sv_threshold = 0.5\n",
    "min_sigma_value = max(s) * sv_threshold\n",
    "s[s < min_sigma_value] = 0\n",
    "\n",
    "salience_scores = np.sqrt(np.dot(np.square(s), np.square(vt)))\n",
    "print np.round(salience_scores, 2)\n"
   ]
  },
  {
   "cell_type": "code",
   "execution_count": 48,
   "metadata": {
    "collapsed": false
   },
   "outputs": [
    {
     "name": "stdout",
     "output_type": "stream",
     "text": [
      "[4 5 8]\n"
     ]
    }
   ],
   "source": [
    "top_sentence_indices = salience_scores.argsort()[-num_sentences:][::-1]\n",
    "top_sentence_indices.sort()\n",
    "print top_sentence_indices\n"
   ]
  },
  {
   "cell_type": "code",
   "execution_count": 49,
   "metadata": {
    "collapsed": false
   },
   "outputs": [
    {
     "name": "stdout",
     "output_type": "stream",
     "text": [
      "All  elephants have a long trunk used for many purposes,  particularly breathing, lifting water and grasping objects.\n",
      "Their  incisors grow into tusks, which can serve as weapons and as tools  for moving objects and digging.\n",
      "African elephants have larger ears  and concave backs while Asian elephants have smaller ears  and convex or level backs.\n"
     ]
    }
   ],
   "source": [
    "for index in top_sentence_indices:\n",
    "    print sentences[index]\n"
   ]
  },
  {
   "cell_type": "code",
   "execution_count": 50,
   "metadata": {
    "collapsed": true
   },
   "outputs": [],
   "source": [
    "def lsa_text_summarizer(documents, num_sentences=2,\n",
    "                        num_topics=2, feature_type='frequency',\n",
    "                        sv_threshold=0.5):\n",
    "                            \n",
    "    vec, dt_matrix = build_feature_matrix(documents, \n",
    "                                          feature_type=feature_type)\n",
    "\n",
    "    td_matrix = dt_matrix.transpose()\n",
    "    td_matrix = td_matrix.multiply(td_matrix > 0)\n",
    "\n",
    "    u, s, vt = low_rank_svd(td_matrix, singular_count=num_topics)  \n",
    "    min_sigma_value = max(s) * sv_threshold\n",
    "    s[s < min_sigma_value] = 0\n",
    "    \n",
    "    salience_scores = np.sqrt(np.dot(np.square(s), np.square(vt)))\n",
    "    top_sentence_indices = salience_scores.argsort()[-num_sentences:][::-1]\n",
    "    top_sentence_indices.sort()\n",
    "    \n",
    "    for index in top_sentence_indices:\n",
    "        print sentences[index]\n"
   ]
  },
  {
   "cell_type": "markdown",
   "metadata": {},
   "source": [
    "### TextRank\n"
   ]
  },
  {
   "cell_type": "code",
   "execution_count": 51,
   "metadata": {
    "collapsed": true
   },
   "outputs": [],
   "source": [
    "import networkx\n"
   ]
  },
  {
   "cell_type": "code",
   "execution_count": 52,
   "metadata": {
    "collapsed": false
   },
   "outputs": [
    {
     "name": "stdout",
     "output_type": "stream",
     "text": [
      "[[ 1.    0.    0.03  0.05  0.03  0.    0.15  0.    0.06]\n",
      " [ 0.    1.    0.    0.07  0.    0.    0.    0.    0.11]\n",
      " [ 0.03  0.    1.    0.03  0.02  0.    0.03  0.    0.04]\n",
      " [ 0.05  0.07  0.03  1.    0.03  0.    0.04  0.    0.11]\n",
      " [ 0.03  0.    0.02  0.03  1.    0.07  0.03  0.    0.04]\n",
      " [ 0.    0.    0.    0.    0.07  1.    0.    0.    0.  ]\n",
      " [ 0.15  0.    0.03  0.04  0.03  0.    1.    0.    0.05]\n",
      " [ 0.    0.    0.    0.    0.    0.    0.    1.    0.  ]\n",
      " [ 0.06  0.11  0.04  0.11  0.04  0.    0.05  0.    1.  ]]\n"
     ]
    }
   ],
   "source": [
    "num_sentences = 3\n",
    "vec, dt_matrix = build_feature_matrix(norm_sentences, \n",
    "                                      feature_type='tfidf')\n",
    "similarity_matrix = (dt_matrix * dt_matrix.T)\n",
    "print np.round(similarity_matrix.todense(), 2)\n"
   ]
  },
  {
   "cell_type": "code",
   "execution_count": 53,
   "metadata": {
    "collapsed": true
   },
   "outputs": [],
   "source": [
    "similarity_graph = networkx.from_scipy_sparse_matrix(similarity_matrix)\n"
   ]
  },
  {
   "cell_type": "code",
   "execution_count": 54,
   "metadata": {
    "collapsed": false
   },
   "outputs": [
    {
     "data": {
      "image/png": "[encoded data removed]",
      "text/plain": [
       "<matplotlib.figure.Figure at 0x7fcafb35c250>"
      ]
     },
     "metadata": {},
     "output_type": "display_data"
    }
   ],
   "source": [
    "import matplotlib.pyplot as plt\n",
    "networkx.draw_networkx(similarity_graph)\n",
    "plt.show()"
   ]
  },
  {
   "cell_type": "code",
   "execution_count": 55,
   "metadata": {
    "collapsed": false
   },
   "outputs": [
    {
     "data": {
      "text/plain": [
       "[(0.11889477617125277, 8),\n",
       " (0.11456045476451866, 3),\n",
       " (0.11285293843138654, 0),\n",
       " (0.11210156056437962, 6),\n",
       " (0.11139550507847462, 4),\n",
       " (0.1111111111111111, 7),\n",
       " (0.10709498606197024, 5),\n",
       " (0.10610242758495998, 2),\n",
       " (0.10588624023194664, 1)]"
      ]
     },
     "execution_count": 55,
     "metadata": {},
     "output_type": "execute_result"
    }
   ],
   "source": [
    "scores = networkx.pagerank(similarity_graph)\n",
    "\n",
    "ranked_sentences = sorted(((score, index) \n",
    "                            for index, score \n",
    "                            in scores.items()), \n",
    "                          reverse=True)\n",
    "ranked_sentences\n"
   ]
  },
  {
   "cell_type": "code",
   "execution_count": 56,
   "metadata": {
    "collapsed": false
   },
   "outputs": [
    {
     "name": "stdout",
     "output_type": "stream",
     "text": [
      "[0, 3, 8]\n"
     ]
    }
   ],
   "source": [
    "top_sentence_indices = [ranked_sentences[index][1] \n",
    "                        for index in range(num_sentences)]\n",
    "top_sentence_indices.sort()\n",
    "print top_sentence_indices\n"
   ]
  },
  {
   "cell_type": "code",
   "execution_count": 57,
   "metadata": {
    "collapsed": false
   },
   "outputs": [
    {
     "name": "stdout",
     "output_type": "stream",
     "text": [
      "Elephants are large mammals of the family Elephantidae  and the order Proboscidea.\n",
      "Male  African elephants are the largest extant terrestrial animals.\n",
      "African elephants have larger ears  and concave backs while Asian elephants have smaller ears  and convex or level backs.\n"
     ]
    }
   ],
   "source": [
    "for index in top_sentence_indices:\n",
    "    print sentences[index]\n",
    "    \n"
   ]
  },
  {
   "cell_type": "code",
   "execution_count": 58,
   "metadata": {
    "collapsed": true
   },
   "outputs": [],
   "source": [
    "def textrank_text_summarizer(documents, num_sentences=2,\n",
    "                             feature_type='frequency'):\n",
    "    \n",
    "    vec, dt_matrix = build_feature_matrix(norm_sentences, \n",
    "                                      feature_type='tfidf')\n",
    "    similarity_matrix = (dt_matrix * dt_matrix.T)\n",
    "        \n",
    "    similarity_graph = networkx.from_scipy_sparse_matrix(similarity_matrix)\n",
    "    scores = networkx.pagerank(similarity_graph)   \n",
    "    \n",
    "    ranked_sentences = sorted(((score, index) \n",
    "                                for index, score \n",
    "                                in scores.items()), \n",
    "                              reverse=True)\n",
    "\n",
    "    top_sentence_indices = [ranked_sentences[index][1] \n",
    "                            for index in range(num_sentences)]\n",
    "    top_sentence_indices.sort()\n",
    "    \n",
    "    for index in top_sentence_indices:\n",
    "        print sentences[index]                             \n"
   ]
  },
  {
   "cell_type": "markdown",
   "metadata": {},
   "source": [
    "### Summarizing a Product Description\n"
   ]
  },
  {
   "cell_type": "code",
   "execution_count": 59,
   "metadata": {
    "collapsed": true
   },
   "outputs": [],
   "source": [
    "DOCUMENT = \"\"\"\n",
    "The Elder Scrolls V: Skyrim is an open world action role-playing video game \n",
    "developed by Bethesda Game Studios and published by Bethesda Softworks. \n",
    "It is the fifth installment in The Elder Scrolls series, following \n",
    "The Elder Scrolls IV: Oblivion. Skyrim's main story revolves around \n",
    "the player character and their effort to defeat Alduin the World-Eater, \n",
    "a dragon who is prophesied to destroy the world. \n",
    "The game is set two hundred years after the events of Oblivion \n",
    "and takes place in the fictional province of Skyrim. The player completes quests \n",
    "and develops the character by improving skills. \n",
    "Skyrim continues the open world tradition of its predecessors by allowing the \n",
    "player to travel anywhere in the game world at any time, and to \n",
    "ignore or postpone the main storyline indefinitely. The player may freely roam \n",
    "over the land of Skyrim, which is an open world environment consisting \n",
    "of wilderness expanses, dungeons, cities, towns, fortresses and villages. \n",
    "Players may navigate the game world more quickly by riding horses, \n",
    "or by utilizing a fast-travel system which allows them to warp to previously \n",
    "Players have the option to develop their character. At the beginning of the game, \n",
    "players create their character by selecting one of several races, \n",
    "including humans, orcs, elves and anthropomorphic cat or lizard-like creatures, \n",
    "and then customizing their character's appearance.discovered locations. Over the \n",
    "course of the game, players improve their character's skills, which are numerical \n",
    "representations of their ability in certain areas. There are eighteen skills \n",
    "divided evenly among the three schools of combat, magic, and stealth. \n",
    "Skyrim is the first entry in The Elder Scrolls to include Dragons in the game's \n",
    "wilderness. Like other creatures, Dragons are generated randomly in the world \n",
    "and will engage in combat. \n",
    "\"\"\"\n"
   ]
  },
  {
   "cell_type": "code",
   "execution_count": 60,
   "metadata": {
    "collapsed": false
   },
   "outputs": [
    {
     "name": "stdout",
     "output_type": "stream",
     "text": [
      "Total Sentences: 13\n"
     ]
    }
   ],
   "source": [
    "sentences = parse_document(DOCUMENT)\n",
    "norm_sentences = normalize_corpus(sentences,lemmatize=True) \n",
    "print \"Total Sentences:\", len(norm_sentences) \n"
   ]
  },
  {
   "cell_type": "code",
   "execution_count": 61,
   "metadata": {
    "collapsed": false
   },
   "outputs": [
    {
     "name": "stdout",
     "output_type": "stream",
     "text": [
      "The Elder Scrolls V: Skyrim is an open world action role-playing video game  developed by Bethesda Game Studios and published by Bethesda Softworks.\n",
      "Players may navigate the game world more quickly by riding horses,  or by utilizing a fast-travel system which allows them to warp to previously  Players have the option to develop their character.\n",
      "At the beginning of the game,  players create their character by selecting one of several races,  including humans, orcs, elves and anthropomorphic cat or lizard-like creatures,  and then customizing their character's appearance.discovered locations.\n"
     ]
    }
   ],
   "source": [
    "lsa_text_summarizer(norm_sentences, num_sentences=3,\n",
    "                    num_topics=5, feature_type='frequency',\n",
    "                    sv_threshold=0.5)  \n"
   ]
  },
  {
   "cell_type": "code",
   "execution_count": 62,
   "metadata": {
    "collapsed": false
   },
   "outputs": [
    {
     "name": "stdout",
     "output_type": "stream",
     "text": [
      "The Elder Scrolls V: Skyrim is an open world action role-playing video game  developed by Bethesda Game Studios and published by Bethesda Softworks.\n",
      "Players may navigate the game world more quickly by riding horses,  or by utilizing a fast-travel system which allows them to warp to previously  Players have the option to develop their character.\n",
      "Skyrim is the first entry in The Elder Scrolls to include Dragons in the game's  wilderness.\n"
     ]
    }
   ],
   "source": [
    "textrank_text_summarizer(norm_sentences, num_sentences=3,\n",
    "                         feature_type='tfidf')                                        "
   ]
  },
  {
   "cell_type": "code",
   "execution_count": null,
   "metadata": {
    "collapsed": true
   },
   "outputs": [],
   "source": []
  }
 ],
 "metadata": {
  "anaconda-cloud": {},
  "kernelspec": {
   "display_name": "Python [conda env:python2]",
   "language": "python",
   "name": "conda-env-python2-py"
  },
  "language_info": {
   "codemirror_mode": {
    "name": "ipython",
    "version": 2
   },
   "file_extension": ".py",
   "mimetype": "text/x-python",
   "name": "python",
   "nbconvert_exporter": "python",
   "pygments_lexer": "ipython2",
   "version": "2.7.12"
  }
 },
 "nbformat": 4,
 "nbformat_minor": 1
}
