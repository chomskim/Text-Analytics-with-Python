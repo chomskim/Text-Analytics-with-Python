{
 "cells": [
  {
   "cell_type": "markdown",
   "metadata": {},
   "source": [
    "# CHAPTER 2 Python Refresher"
   ]
  },
  {
   "cell_type": "markdown",
   "metadata": {},
   "source": [
    "## Data Structures and Types\n"
   ]
  },
  {
   "cell_type": "code",
   "execution_count": 1,
   "metadata": {
    "collapsed": false
   },
   "outputs": [
    {
     "name": "stdout",
     "output_type": "stream",
     "text": [
      "The Zen of Python, by Tim Peters\n",
      "\n",
      "Beautiful is better than ugly.\n",
      "Explicit is better than implicit.\n",
      "Simple is better than complex.\n",
      "Complex is better than complicated.\n",
      "Flat is better than nested.\n",
      "Sparse is better than dense.\n",
      "Readability counts.\n",
      "Special cases aren't special enough to break the rules.\n",
      "Although practicality beats purity.\n",
      "Errors should never pass silently.\n",
      "Unless explicitly silenced.\n",
      "In the face of ambiguity, refuse the temptation to guess.\n",
      "There should be one-- and preferably only one --obvious way to do it.\n",
      "Although that way may not be obvious at first unless you're Dutch.\n",
      "Now is better than never.\n",
      "Although never is often better than *right* now.\n",
      "If the implementation is hard to explain, it's a bad idea.\n",
      "If the implementation is easy to explain, it may be a good idea.\n",
      "Namespaces are one honking great idea -- let's do more of those!\n"
     ]
    }
   ],
   "source": [
    "# zen of python\n",
    "import this\n"
   ]
  },
  {
   "cell_type": "code",
   "execution_count": 2,
   "metadata": {
    "collapsed": false
   },
   "outputs": [
    {
     "data": {
      "text/plain": [
       "'This is a String'"
      ]
     },
     "execution_count": 2,
     "metadata": {},
     "output_type": "execute_result"
    }
   ],
   "source": [
    "new_string = \"This is a String\"  # storing a string\n",
    "\n",
    "id(new_string)  # shows the object identifier (address)\n",
    "\n",
    "type(new_string)  # shows the object type\n",
    "\n",
    "new_string  # shows the object value\n"
   ]
  },
  {
   "cell_type": "code",
   "execution_count": 3,
   "metadata": {
    "collapsed": false
   },
   "outputs": [
    {
     "data": {
      "text/plain": [
       "61"
      ]
     },
     "execution_count": 3,
     "metadata": {},
     "output_type": "execute_result"
    }
   ],
   "source": [
    "# representing integers and operations on them\n",
    "num = 123\n",
    "\n",
    "type(num)\n",
    "\n",
    "num + 1000  # addition\n",
    "\n",
    "num * 2  # multiplication\n",
    "\n",
    "num /  2  # integer division\n"
   ]
  },
  {
   "cell_type": "code",
   "execution_count": 4,
   "metadata": {
    "collapsed": false
   },
   "outputs": [
    {
     "name": "stdout",
     "output_type": "stream",
     "text": [
      "this is a string this is \"another\" string this is the 'third' string this is a\n",
      "multiline\n",
      "string\n",
      "this is the 'third' string\n",
      "this is a\n",
      "multiline\n",
      "string\n",
      "['eggs', 'flour', 'butter'] [1, 'drink', 10, 'sandwiches', 0.0045] [1, 2, 3, ['a', 'b', 'c'], ['Hello', 'Python']]\n"
     ]
    },
    {
     "data": {
      "text/plain": [
       "{1, 2, 3, 9, 11}"
      ]
     },
     "execution_count": 4,
     "metadata": {},
     "output_type": "execute_result"
    }
   ],
   "source": [
    "# decimal\n",
    "1 + 1\n",
    "\n",
    "# binary\n",
    "bin(2)\n",
    "\n",
    "0b1 + 0b1\n",
    "\n",
    "bin(0b1 + 0b1)\n",
    "\n",
    "# octal\n",
    "oct(8)\n",
    "\n",
    "oct(07 + 01)\n",
    "\n",
    "0o10\n",
    "\n",
    "\n",
    "# hexadecimal\n",
    "hex(16)\n",
    "\n",
    "0x10\n",
    "\n",
    "hex(0x16 + 0x5)\n",
    "\n",
    "\n",
    "# floating points\n",
    "1.5 + 2.6\n",
    "\n",
    "1e2 + 1.5e3 + 0.5\n",
    "\n",
    "2.5e4\n",
    "\n",
    "2.5e-2\n",
    "\n",
    "\n",
    "# complex\n",
    "cnum = 5 + 7j\n",
    "\n",
    "type(cnum)\n",
    "\n",
    "cnum.real\n",
    "\n",
    "cnum.imag\n",
    "\n",
    "cnum + (1 - 0.5j)\n",
    "\n",
    "\n",
    "# strings\n",
    "s1 = 'this is a string'\n",
    "s2 = 'this is \"another\" string'\n",
    "s3 = 'this is the \\'third\\' string'\n",
    "s4 = \"\"\"this is a\n",
    "multiline\n",
    "string\"\"\"\n",
    "\n",
    "print s1, s2, s3, s4\n",
    "\n",
    "print s3 + '\\n' + s4\n",
    "\n",
    "\n",
    "' '.join([s1, s2])\n",
    "\n",
    "s1[::-1]  # reverses the string\n",
    "\n",
    "\n",
    "# lists\n",
    "l1 = ['eggs', 'flour', 'butter']\n",
    "l2 = list([1, 'drink', 10, 'sandwiches', 0.45e-2])\n",
    "l3 = [1, 2, 3, ['a', 'b', 'c'], ['Hello', 'Python']]\n",
    "\n",
    "print l1, l2, l3\n",
    "\n",
    "# indexing lists\n",
    "l1\n",
    "l1[0]\n",
    "l1[1]\n",
    "l1[0] +' '+ l1[1]\n",
    "\n",
    "# slicing lists\n",
    "l2[1:3]\n",
    "\n",
    "numbers = range(10)\n",
    "numbers\n",
    "numbers[2:5]\n",
    "numbers[:]\n",
    "numbers[::2]\n",
    "\n",
    "# concatenating and mutating lists\n",
    "numbers * 2\n",
    "numbers + l2\n",
    "\n",
    "# handling nested lists\n",
    "l3\n",
    "l3[3]\n",
    "l3[4]\n",
    "l3.append(' '.join(l3[4]))  # append operation\n",
    "l3\n",
    "l3.pop(3)  # pop operation\n",
    "l3\n",
    "\n",
    "\n",
    "\n",
    "# sets\n",
    "l1 = [1,1,2,3,5,5,7,9,1]\n",
    "\n",
    "set(l1)  # makes the list as a set\n",
    "s1 = set(l1)\n",
    "\n",
    "# membership testing\n",
    "1 in s1  \n",
    "100 in s1\n",
    "\n",
    "# initialize a second set\n",
    "s2 = {5, 7, 11}\n",
    "\n",
    "# testing various set operations\n",
    "s1 - s2  # set difference\n",
    "s1 | s2  # set union\n",
    "s1 & s2  # set intersection \n",
    "s1 ^ s2  # elements which do not appear in both sets\n",
    "\n"
   ]
  },
  {
   "cell_type": "code",
   "execution_count": 5,
   "metadata": {
    "collapsed": false
   },
   "outputs": [
    {
     "ename": "KeyError",
     "evalue": "'orange'",
     "output_type": "error",
     "traceback": [
      "\u001b[0;31m---------------------------------------------------------------------------\u001b[0m",
      "\u001b[0;31mKeyError\u001b[0m                                  Traceback (most recent call last)",
      "\u001b[0;32m<ipython-input-5-ea1181eb9024>\u001b[0m in \u001b[0;36m<module>\u001b[0;34m()\u001b[0m\n\u001b[1;32m      9\u001b[0m \u001b[0;31m# get is better than direct indexing since it does not throw errors\u001b[0m\u001b[0;34m\u001b[0m\u001b[0;34m\u001b[0m\u001b[0m\n\u001b[1;32m     10\u001b[0m \u001b[0md1\u001b[0m\u001b[0;34m.\u001b[0m\u001b[0mget\u001b[0m\u001b[0;34m(\u001b[0m\u001b[0;34m'orange'\u001b[0m\u001b[0;34m)\u001b[0m\u001b[0;34m\u001b[0m\u001b[0m\n\u001b[0;32m---> 11\u001b[0;31m \u001b[0md1\u001b[0m\u001b[0;34m[\u001b[0m\u001b[0;34m'orange'\u001b[0m\u001b[0;34m]\u001b[0m\u001b[0;34m\u001b[0m\u001b[0m\n\u001b[0m\u001b[1;32m     12\u001b[0m \u001b[0;34m\u001b[0m\u001b[0m\n",
      "\u001b[0;31mKeyError\u001b[0m: 'orange'"
     ]
    }
   ],
   "source": [
    "# dictionaries\n",
    "d1 = {'eggs': 2, 'milk': 3, 'spam': 10, 'ham': 15}\n",
    "d1\n",
    "\n",
    "# retrieving items based on key\n",
    "d1.get('eggs')\n",
    "d1['eggs']\n",
    "\n",
    "# get is better than direct indexing since it does not throw errors\n",
    "d1.get('orange') \n",
    "d1['orange']\n",
    "\n"
   ]
  },
  {
   "cell_type": "code",
   "execution_count": 6,
   "metadata": {
    "collapsed": false
   },
   "outputs": [
    {
     "ename": "TypeError",
     "evalue": "'tuple' object does not support item assignment",
     "output_type": "error",
     "traceback": [
      "\u001b[0;31m---------------------------------------------------------------------------\u001b[0m",
      "\u001b[0;31mTypeError\u001b[0m                                 Traceback (most recent call last)",
      "\u001b[0;32m<ipython-input-6-cad91734f590>\u001b[0m in \u001b[0;36m<module>\u001b[0;34m()\u001b[0m\n\u001b[1;32m     37\u001b[0m \u001b[0;34m\u001b[0m\u001b[0m\n\u001b[1;32m     38\u001b[0m \u001b[0;31m# tuples are immutable hence assignment is not supported like lists\u001b[0m\u001b[0;34m\u001b[0m\u001b[0;34m\u001b[0m\u001b[0m\n\u001b[0;32m---> 39\u001b[0;31m \u001b[0msingle_tuple\u001b[0m\u001b[0;34m[\u001b[0m\u001b[0;36m3\u001b[0m\u001b[0;34m]\u001b[0m \u001b[0;34m=\u001b[0m \u001b[0;36m100\u001b[0m\u001b[0;34m\u001b[0m\u001b[0m\n\u001b[0m\u001b[1;32m     40\u001b[0m \u001b[0;34m\u001b[0m\u001b[0m\n",
      "\u001b[0;31mTypeError\u001b[0m: 'tuple' object does not support item assignment"
     ]
    }
   ],
   "source": [
    "# setting items with a specific key\n",
    "d1['orange'] = 25\n",
    "d1\n",
    "\n",
    "# viewing keys and values\n",
    "d1.keys()\n",
    "d1.values()\n",
    "\n",
    "# create a new dictionary using dict function\n",
    "d2 = dict({'orange': 5, 'melon': 17, 'milk': 10})\n",
    "d2\n",
    "\n",
    "# update dictionary d1 based on new key-values in d2\n",
    "d1.update(d2)\n",
    "d1\n",
    "\n",
    "# complex and nested dictionary\n",
    "d3 = {'k1': 5, 'k2': [1,2,3,4,5], 'k3': {'a': 1, 'b': 2, 'c': [1,2,3]}}\n",
    "d3\n",
    "d3.get('k3')\n",
    "d3.get('k3').get('c')\n",
    "\n",
    "\n",
    "# tuples\n",
    "\n",
    "# creating a tuple with a single element \n",
    "single_tuple = (1,)\n",
    "single_tuple\n",
    "\n",
    "# original address of the tuple\n",
    "id(single_tuple)\n",
    "\n",
    "# modifying contents of the tuple but its location changes (new tuple is created)\n",
    "single_tuple = single_tuple + (2, 3, 4, 5)\n",
    "single_tuple\n",
    "id(single_tuple) # different address indicating new tuple with same name\n",
    "\n",
    "# tuples are immutable hence assignment is not supported like lists\n",
    "single_tuple[3] = 100\n",
    "\n"
   ]
  },
  {
   "cell_type": "code",
   "execution_count": 7,
   "metadata": {
    "collapsed": false
   },
   "outputs": [
    {
     "name": "stdout",
     "output_type": "stream",
     "text": [
      "['this', 'is', 'list', '1'] ['this', 'is', 'list', '2']\n"
     ]
    }
   ],
   "source": [
    "# accessing and unpacking tuples\n",
    "tup = (['this', 'is', 'list', '1'], ['this', 'is', 'list', '2'])\n",
    "tup[0]\n",
    "l1, l2 = tup\n",
    "print l1, l2\n"
   ]
  },
  {
   "cell_type": "code",
   "execution_count": 8,
   "metadata": {
    "collapsed": false
   },
   "outputs": [
    {
     "name": "stdout",
     "output_type": "stream",
     "text": [
      "['This is some text\\n', 'Hello world!']\n"
     ]
    }
   ],
   "source": [
    "# files\n",
    "f = open('text_file.txt', 'w')   # open in write mode\n",
    "f.write(\"This is some text\\n\")  # write some text\n",
    "f.write(\"Hello world!\")\n",
    "f.close()  # closes the file\n",
    "\n",
    "# lists files in current directory\n",
    "import os\n",
    "os.listdir(os.getcwd())\n",
    "\n",
    "f = open('text_file.txt', 'r')  # opens file in read mode\n",
    "data = f.readlines()  # reads in all lines from file\n",
    "print data  # prints the text data\n"
   ]
  },
  {
   "cell_type": "markdown",
   "metadata": {},
   "source": [
    "## Controlling Code Flow"
   ]
  },
  {
   "cell_type": "code",
   "execution_count": 9,
   "metadata": {
    "collapsed": false
   },
   "outputs": [
    {
     "name": "stdout",
     "output_type": "stream",
     "text": [
      "Spam\n",
      "Ham\n",
      "Neither Spam or Ham\n"
     ]
    }
   ],
   "source": [
    "# if, if-elif, if-elif-else\n",
    "var = 'spam'\n",
    "if var == 'spam':\n",
    "    print 'Spam'\n",
    "\n",
    "var = 'ham'\n",
    "if var == 'spam':\n",
    "    print 'Spam'\n",
    "elif var == 'ham':\n",
    "    print 'Ham'\n",
    "\n",
    "\n",
    "var = 'foo'\n",
    "if var == 'spam':\n",
    "    print 'Spam'\n",
    "elif var == 'ham':\n",
    "    print 'Ham'\n",
    "else: \n",
    "    print 'Neither Spam or Ham'\n",
    "\n"
   ]
  },
  {
   "cell_type": "code",
   "execution_count": 10,
   "metadata": {
    "collapsed": false
   },
   "outputs": [
    {
     "name": "stdout",
     "output_type": "stream",
     "text": [
      "0\n",
      "1\n",
      "2\n",
      "3\n",
      "4\n",
      "10\n",
      "0\n",
      "1\n",
      "2\n",
      "3\n",
      "4\n",
      "loop exited normally\n",
      "0\n",
      "1\n",
      "2\n"
     ]
    }
   ],
   "source": [
    "# Looping constructs\n",
    "\n",
    "# illustrating for loops\n",
    "numbers = range(0,5)\n",
    "for number in numbers:\n",
    "    print number\n",
    "\n",
    "sum = 0\n",
    "for number in numbers:\n",
    "    sum += number\n",
    "\n",
    "print sum\n",
    "\n",
    "\n",
    "# role of the trailing else and break constructs\n",
    "for number in numbers:\n",
    "    print number\n",
    "else:\n",
    "    print 'loop exited normally'\n",
    "\n",
    "\n",
    "for number in numbers:\n",
    "    if number < 3:\n",
    "        print number\n",
    "    else:\n",
    "        break\n",
    "else:\n",
    "    print 'loop exited normally'\n"
   ]
  },
  {
   "cell_type": "code",
   "execution_count": 11,
   "metadata": {
    "collapsed": false
   },
   "outputs": [
    {
     "name": "stdout",
     "output_type": "stream",
     "text": [
      "5\n",
      "4\n",
      "3\n",
      "2\n",
      "1\n",
      "10\n",
      "8\n",
      "6\n",
      "4\n",
      "2\n",
      "10\n",
      "8\n",
      "6\n",
      "4\n",
      "2\n"
     ]
    }
   ],
   "source": [
    "# illustrating while loops\n",
    "number = 5\n",
    "while number > 0:\n",
    "    print number\n",
    "    number -= 1  # important! else loop will keep running\n",
    "\n",
    "# role of continue construct\n",
    "number = 10\n",
    "while number > 0:\n",
    "    if number % 2 != 0:\n",
    "        number -=1 # decrement but do not print odd numbers\n",
    "        continue  # go back to beginning of loop for next iteration\n",
    "    print number  # print even numbers and decrement count\n",
    "    number -= 1  \n",
    "\n",
    "# role of the pass construct\n",
    "number = 10\n",
    "while number > 0:\n",
    "    if number % 2 != 0:\n",
    "        pass # don't print odds\n",
    "    else:\n",
    "        print number\n",
    "    number -= 1\n",
    "\n",
    "\n"
   ]
  },
  {
   "cell_type": "code",
   "execution_count": 12,
   "metadata": {
    "collapsed": false
   },
   "outputs": [
    {
     "name": "stdout",
     "output_type": "stream",
     "text": [
      "Exception: list index out of range has occured\n",
      "I will always execute no matter what!\n",
      "bacon\n",
      "No exceptions occured\n",
      "I will always execute no matter what!\n"
     ]
    }
   ],
   "source": [
    "# exceptions\n",
    "shopping_list = ['eggs', 'ham', 'bacon']\n",
    "# trying to access a non-existent item in the list\n",
    "try:\n",
    "    print shopping_list[3]\n",
    "except IndexError as e:\n",
    "    print 'Exception: '+str(e)+' has occured'\n",
    "else:\n",
    "    print 'No exceptions occured'\n",
    "finally:\n",
    "    print 'I will always execute no matter what!'\n",
    "    \n",
    "# smooth code execution without any errors\n",
    "try:\n",
    "    print shopping_list[2]\n",
    "except IndexError as e:\n",
    "    print 'Exception: '+str(e)+' has occured'\n",
    "else:\n",
    "    print 'No exceptions occured'\n",
    "finally:\n",
    "    print 'I will always execute no matter what!'\n",
    " \n"
   ]
  },
  {
   "cell_type": "markdown",
   "metadata": {},
   "source": [
    "## Functional Programming"
   ]
  },
  {
   "cell_type": "code",
   "execution_count": 13,
   "metadata": {
    "collapsed": false
   },
   "outputs": [
    {
     "data": {
      "text/plain": [
       "25"
      ]
     },
     "execution_count": 13,
     "metadata": {},
     "output_type": "execute_result"
    }
   ],
   "source": [
    "# function with single argument\n",
    "def square(number):\n",
    "    return number*number\n",
    "\n",
    "square(5)\n"
   ]
  },
  {
   "cell_type": "code",
   "execution_count": 14,
   "metadata": {
    "collapsed": false
   },
   "outputs": [
    {
     "data": {
      "text/plain": [
       "[1, 4, 9, 16, 25]"
      ]
     },
     "execution_count": 14,
     "metadata": {},
     "output_type": "execute_result"
    }
   ],
   "source": [
    "# built-in function from the numpy library\n",
    "import numpy as np\n",
    "np.square(5)\n",
    "\n",
    "# a more complex function with variable number of arguments\n",
    "def squares(*args):\n",
    "    squared_args = []\n",
    "    for item in args: \n",
    "        squared_args.append(item*item)\n",
    "    return squared_args\n",
    "\n",
    "squares(1,2,3,4,5)\n",
    "\n"
   ]
  },
  {
   "cell_type": "code",
   "execution_count": 15,
   "metadata": {
    "collapsed": false
   },
   "outputs": [
    {
     "name": "stdout",
     "output_type": "stream",
     "text": [
      "alias -> 007\n",
      "job -> Secret Service Agent\n",
      "name -> James Bond\n"
     ]
    }
   ],
   "source": [
    "# assign specific keyword based arguments dynamically\n",
    "def person_details(**kwargs):\n",
    "    for key, value in kwargs.items():\n",
    "        print key, '->', value\n",
    "\n",
    "person_details(name='James Bond', alias='007', job='Secret Service Agent')\n"
   ]
  },
  {
   "cell_type": "code",
   "execution_count": 16,
   "metadata": {
    "collapsed": false
   },
   "outputs": [
    {
     "data": {
      "text/plain": [
       "[1, 4, 9, 16, 25]"
      ]
     },
     "execution_count": 16,
     "metadata": {},
     "output_type": "execute_result"
    }
   ],
   "source": [
    "# using recursion to square numbers\n",
    "def recursive_squares(numbers):\n",
    "    if not numbers:\n",
    "        return []\n",
    "    else:\n",
    "        return [numbers[0]*numbers[0]] + recursive_squares(numbers[1:])\n",
    "\n",
    "recursive_squares([1, 2, 3, 4, 5])\n"
   ]
  },
  {
   "cell_type": "code",
   "execution_count": 17,
   "metadata": {
    "collapsed": false
   },
   "outputs": [
    {
     "data": {
      "text/plain": [
       "'I am making a sentence from words!'"
      ]
     },
     "execution_count": 17,
     "metadata": {},
     "output_type": "execute_result"
    }
   ],
   "source": [
    "# simple lambda function to square a number\n",
    "lambda_square = lambda n: n*n\n",
    "lambda_square(5)\n",
    "\n",
    "# map function to square numbers using lambda\n",
    "map(lambda_square, [1, 2, 3, 4, 5])\n",
    "\n",
    "# lambda function to find even numbers used for filtering\n",
    "lambda_evens = lambda n: n%2 == 0\n",
    "filter(lambda_evens, [1, 2, 3, 4, 5, 6, 7, 8, 9, 10])\n",
    "\n",
    "# lambda function to add numbers used for adding numbers in reduce function\n",
    "lambda_sum = lambda x, y: x + y\n",
    "reduce(lambda_sum, [1, 2, 3, 4, 5])\n",
    "\n",
    "# lambda function to make a sentence from word tokens with reduce function\n",
    "lambda_sentence_maker = lambda word1, word2: ' '.join([word1, word2])\n",
    "reduce(lambda_sentence_maker, ['I', 'am', 'making', 'a', 'sentence', 'from', 'words!'])\n",
    "\n"
   ]
  },
  {
   "cell_type": "code",
   "execution_count": 18,
   "metadata": {
    "collapsed": false
   },
   "outputs": [
    {
     "name": "stdout",
     "output_type": "stream",
     "text": [
      "0\n",
      "1\n",
      "2\n",
      "3\n",
      "4\n",
      "5\n",
      "0\n",
      "1\n",
      "2\n",
      "3\n",
      "4\n",
      "5\n",
      "Reached end of sequence\n"
     ]
    }
   ],
   "source": [
    "# iterators\n",
    "\n",
    "# typical for loop\n",
    "numbers = range(6)\n",
    "for number in numbers:\n",
    "    print number\n",
    "\n",
    "# illustrating how iterators work behind the scenes\n",
    "iterator_obj = iter(numbers)\n",
    "while True:\n",
    "    try:\n",
    "        print iterator_obj.next()\n",
    "    except StopIteration:\n",
    "        print 'Reached end of sequence'\n",
    "        break\n"
   ]
  },
  {
   "cell_type": "code",
   "execution_count": 19,
   "metadata": {
    "collapsed": false
   },
   "outputs": [
    {
     "ename": "StopIteration",
     "evalue": "",
     "output_type": "error",
     "traceback": [
      "\u001b[0;31m---------------------------------------------------------------------------\u001b[0m",
      "\u001b[0;31mStopIteration\u001b[0m                             Traceback (most recent call last)",
      "\u001b[0;32m<ipython-input-19-af2035d8f473>\u001b[0m in \u001b[0;36m<module>\u001b[0;34m()\u001b[0m\n\u001b[1;32m      1\u001b[0m \u001b[0;31m# calling next now would throw the StopIteration exception as expected\u001b[0m\u001b[0;34m\u001b[0m\u001b[0;34m\u001b[0m\u001b[0m\n\u001b[0;32m----> 2\u001b[0;31m \u001b[0miterator_obj\u001b[0m\u001b[0;34m.\u001b[0m\u001b[0mnext\u001b[0m\u001b[0;34m(\u001b[0m\u001b[0;34m)\u001b[0m\u001b[0;34m\u001b[0m\u001b[0m\n\u001b[0m",
      "\u001b[0;31mStopIteration\u001b[0m: "
     ]
    }
   ],
   "source": [
    "# calling next now would throw the StopIteration exception as expected\n",
    "iterator_obj.next()\n"
   ]
  },
  {
   "cell_type": "code",
   "execution_count": 20,
   "metadata": {
    "collapsed": false
   },
   "outputs": [
    {
     "data": {
      "text/plain": [
       "[0, 1, 2, 3, 4, 5]"
      ]
     },
     "execution_count": 20,
     "metadata": {},
     "output_type": "execute_result"
    }
   ],
   "source": [
    "# comprehensions\n",
    "numbers = range(6)\n",
    "numbers\n"
   ]
  },
  {
   "cell_type": "code",
   "execution_count": 21,
   "metadata": {
    "collapsed": false
   },
   "outputs": [
    {
     "data": {
      "text/plain": [
       "[0, 1, 4, 9, 16, 25]"
      ]
     },
     "execution_count": 21,
     "metadata": {},
     "output_type": "execute_result"
    }
   ],
   "source": [
    "# simple list comprehension to compute squares\n",
    "[num*num for num in numbers]\n"
   ]
  },
  {
   "cell_type": "code",
   "execution_count": 22,
   "metadata": {
    "collapsed": false
   },
   "outputs": [
    {
     "data": {
      "text/plain": [
       "[0, 1, 0, 1, 0, 1]"
      ]
     },
     "execution_count": 22,
     "metadata": {},
     "output_type": "execute_result"
    }
   ],
   "source": [
    "# list comprehension to check if number is divisible by 2\n",
    "[num%2 for num in numbers]\n"
   ]
  },
  {
   "cell_type": "code",
   "execution_count": 23,
   "metadata": {
    "collapsed": false
   },
   "outputs": [
    {
     "data": {
      "text/plain": [
       "[1, 2, 3, 4, 5, 6, 7, 8, 9, 10, 11, 12]"
      ]
     },
     "execution_count": 23,
     "metadata": {},
     "output_type": "execute_result"
    }
   ],
   "source": [
    "# set comprehension returns distinct values of the above operation\n",
    "set(num%2 for num in numbers)\n",
    "\n",
    "# dictionary comprehension where key:value is number: square(number)\n",
    "{num: num*num for num in numbers}\n",
    "\n",
    "# a more complex comprehension showcasing above operations in a single comprehension\n",
    "[{'number': num, \n",
    "  'square': num*num, \n",
    "  'type': 'even' if num%2 == 0 else 'odd'} for num in numbers]\n",
    "\n",
    "# nested list comprehension - flattening a list of lists\n",
    "list_of_lists = [[1, 2, 3, 4], [5, 6, 7, 8], [9, 10, 11, 12]]\n",
    "list_of_lists\n",
    "[item for each_list in list_of_lists for item in each_list]\n",
    "\n"
   ]
  },
  {
   "cell_type": "code",
   "execution_count": 24,
   "metadata": {
    "collapsed": false
   },
   "outputs": [
    {
     "name": "stdout",
     "output_type": "stream",
     "text": [
      "1\n",
      "4\n",
      "9\n",
      "16\n",
      "25\n"
     ]
    }
   ],
   "source": [
    "# generators\n",
    "numbers = [1, 2, 3, 4, 5]\n",
    "\n",
    "def generate_squares(numbers):\n",
    "    for number in numbers:\n",
    "        yield number*number\n",
    "\n",
    "gen_obj = generate_squares(numbers)\n",
    "gen_obj\n",
    "for item in gen_obj:\n",
    "    print item\n"
   ]
  },
  {
   "cell_type": "code",
   "execution_count": 25,
   "metadata": {
    "collapsed": false
   },
   "outputs": [
    {
     "data": {
      "text/plain": [
       "'The fox jumps over the dog'"
      ]
     },
     "execution_count": 25,
     "metadata": {},
     "output_type": "execute_result"
    }
   ],
   "source": [
    "csv_string = 'The,fox,jumps,over,the,dog'\n",
    "# making a sentence using list comprehension\n",
    "list_cmp_obj = [item for item in csv_string.split(',')]\n",
    "list_cmp_obj\n",
    "' '.join(list_cmp_obj)\n",
    "\n",
    "# making a sentence using generator expression\n",
    "gen_obj = (item for item in csv_string.split(','))\n",
    "gen_obj\n",
    "' '.join(gen_obj)\n"
   ]
  },
  {
   "cell_type": "markdown",
   "metadata": {},
   "source": [
    "## Classes"
   ]
  },
  {
   "cell_type": "code",
   "execution_count": 26,
   "metadata": {
    "collapsed": false
   },
   "outputs": [
    {
     "data": {
      "text/plain": [
       "\"Rover is of type Animal and has attributes:['runs', 'eats', 'dog']\""
      ]
     },
     "execution_count": 26,
     "metadata": {},
     "output_type": "execute_result"
    }
   ],
   "source": [
    "# Classes \n",
    "\n",
    "# class definition\n",
    "class Animal(object):\n",
    "    species = 'Animal'\n",
    "\n",
    "    def __init__(self, name):\n",
    "        self.name = name\n",
    "        self.attributes = []\n",
    "\n",
    "    def add_attributes(self, attributes):\n",
    "        self.attributes.extend(attributes) \\\n",
    "            if type(attributes) == list \\\n",
    "            else self.attributes.append(attributes)\n",
    "\n",
    "    def __str__(self):\n",
    "        return self.name+\" is of type \"+self.species+\" and has attributes:\"+str(self.attributes)\n",
    "\n",
    "# instantiating the class\n",
    "a1 = Animal('Rover')\n",
    "# invoking instance method\n",
    "a1.add_attributes(['runs', 'eats', 'dog'])\n",
    "# user defined string representation of the Animal class\n",
    "str(a1)\n"
   ]
  },
  {
   "cell_type": "code",
   "execution_count": 27,
   "metadata": {
    "collapsed": true
   },
   "outputs": [],
   "source": [
    "# deriving class Dog from base class Animal\n",
    "class Dog(Animal):    \n",
    "    species = 'Dog'\n",
    "\n",
    "    def __init__(self, *args):\n",
    "        super(Dog, self).__init__(*args) \n",
    "\n",
    "# deriving class Fox from base class Animal\n",
    "class Fox(Animal):    \n",
    "    species = 'Fox'\n",
    "\n",
    "    def __init__(self, *args):\n",
    "        super(Fox, self).__init__(*args)\n"
   ]
  },
  {
   "cell_type": "code",
   "execution_count": 28,
   "metadata": {
    "collapsed": false
   },
   "outputs": [
    {
     "data": {
      "text/plain": [
       "\"Rover is of type Dog and has attributes:['lazy', 'beige', 'sleeps', 'eats']\""
      ]
     },
     "execution_count": 28,
     "metadata": {},
     "output_type": "execute_result"
    }
   ],
   "source": [
    "# creating instance of class Dog\n",
    "d1 = Dog('Rover')\n",
    "d1.add_attributes(['lazy', 'beige', 'sleeps', 'eats'])\n",
    "str(d1)\n"
   ]
  },
  {
   "cell_type": "code",
   "execution_count": 29,
   "metadata": {
    "collapsed": false
   },
   "outputs": [
    {
     "data": {
      "text/plain": [
       "\"Silver is of type Fox and has attributes:['quick', 'brown', 'jumps', 'runs']\""
      ]
     },
     "execution_count": 29,
     "metadata": {},
     "output_type": "execute_result"
    }
   ],
   "source": [
    "# creating instance of class Fox\n",
    "f1 = Fox('Silver')\n",
    "f1.add_attributes(['quick', 'brown', 'jumps', 'runs'])\n",
    "str(f1)\n"
   ]
  },
  {
   "cell_type": "markdown",
   "metadata": {},
   "source": [
    "## Working with Text"
   ]
  },
  {
   "cell_type": "code",
   "execution_count": 30,
   "metadata": {
    "collapsed": false
   },
   "outputs": [
    {
     "name": "stdout",
     "output_type": "stream",
     "text": [
      "hello I'm a simple string\n",
      "Hello I'm\n",
      "a multi-line\n",
      "string!\n",
      "C:\the_folder\n",
      "ew_dir\f",
      "ile.txt\n",
      "C:\\the_folder\\new_dir\\file.txt\n",
      "Hèllo!\n"
     ]
    }
   ],
   "source": [
    "# String types\n",
    "\n",
    "# simple string\n",
    "simple_string = 'hello' + \" I'm a simple string\"\n",
    "print simple_string\n",
    "\n",
    "# multi-line string, note the \\n (newline) escape character automatically created\n",
    "multi_line_string = \"\"\"Hello I'm\n",
    "a multi-line\n",
    "string!\"\"\"\n",
    "multi_line_string\n",
    "print multi_line_string\n",
    "\n",
    "# Normal string with escape sequences leading to a wrong file path!\n",
    "escaped_string = \"C:\\the_folder\\new_dir\\file.txt\"\n",
    "print escaped_string  # will cause errors if we try to open a file here\n",
    "\n",
    "# raw string keeping the backslashes in its normal form\n",
    "raw_string = r'C:\\the_folder\\new_dir\\file.txt'\n",
    "print raw_string\n",
    "\n",
    "# unicode string literals\n",
    "string_with_unicode = u'H\\u00e8llo!'\n",
    "print string_with_unicode\n",
    "\n",
    "\n"
   ]
  },
  {
   "cell_type": "code",
   "execution_count": 31,
   "metadata": {
    "collapsed": false
   },
   "outputs": [
    {
     "data": {
      "text/plain": [
       "'Hello Python!'"
      ]
     },
     "execution_count": 31,
     "metadata": {},
     "output_type": "execute_result"
    }
   ],
   "source": [
    "# String operations\n",
    "\n",
    "# Different ways of String concatenation\n",
    "'Hello' + ' and welcome ' + 'to Python!'\n",
    "'Hello' ' and welcome ' 'to Python!'\n",
    "\n",
    "# concatenation of variables and literals\n",
    "s1 = 'Python!'\n",
    "'Hello ' + s1\n"
   ]
  },
  {
   "cell_type": "code",
   "execution_count": 32,
   "metadata": {
    "collapsed": false
   },
   "outputs": [
    {
     "ename": "SyntaxError",
     "evalue": "invalid syntax (<ipython-input-32-01ae724e2612>, line 2)",
     "output_type": "error",
     "traceback": [
      "\u001b[0;36m  File \u001b[0;32m\"<ipython-input-32-01ae724e2612>\"\u001b[0;36m, line \u001b[0;32m2\u001b[0m\n\u001b[0;31m    'Hello ' s1\u001b[0m\n\u001b[0m              ^\u001b[0m\n\u001b[0;31mSyntaxError\u001b[0m\u001b[0;31m:\u001b[0m invalid syntax\n"
     ]
    }
   ],
   "source": [
    "# we cannot concatenate a variable and a literal using this method\n",
    "'Hello ' s1\n"
   ]
  },
  {
   "cell_type": "code",
   "execution_count": 33,
   "metadata": {
    "collapsed": false
   },
   "outputs": [
    {
     "data": {
      "text/plain": [
       "'Python!--Python--Python!--Python--Python!--Python--'"
      ]
     },
     "execution_count": 33,
     "metadata": {},
     "output_type": "execute_result"
    }
   ],
   "source": [
    "# some more ways of concatenating strings\n",
    "s2 = '--Python--'\n",
    "s2 * 5\n",
    "s1 + s2\n",
    "(s1 + s2)*3\n"
   ]
  },
  {
   "cell_type": "code",
   "execution_count": 34,
   "metadata": {
    "collapsed": false
   },
   "outputs": [
    {
     "data": {
      "text/plain": [
       "'This is another way to concatenate several strings!'"
      ]
     },
     "execution_count": 34,
     "metadata": {},
     "output_type": "execute_result"
    }
   ],
   "source": [
    "# concatenating several strings together in parentheses\n",
    "s3 = ('This '\n",
    "      'is another way '\n",
    "      'to concatenate '\n",
    "      'several strings!')\n",
    "s3\n"
   ]
  },
  {
   "cell_type": "code",
   "execution_count": 35,
   "metadata": {
    "collapsed": false
   },
   "outputs": [
    {
     "data": {
      "text/plain": [
       "False"
      ]
     },
     "execution_count": 35,
     "metadata": {},
     "output_type": "execute_result"
    }
   ],
   "source": [
    "# checking for substrings in a string\n",
    "'way' in s3\n",
    "'python' in s3\n"
   ]
  },
  {
   "cell_type": "code",
   "execution_count": 36,
   "metadata": {
    "collapsed": false
   },
   "outputs": [
    {
     "data": {
      "text/plain": [
       "51"
      ]
     },
     "execution_count": 36,
     "metadata": {},
     "output_type": "execute_result"
    }
   ],
   "source": [
    "# computing total length of the string\n",
    "len(s3)\n",
    "\n"
   ]
  },
  {
   "cell_type": "code",
   "execution_count": 37,
   "metadata": {
    "collapsed": false
   },
   "outputs": [
    {
     "name": "stdout",
     "output_type": "stream",
     "text": [
      "Character P: has index: 0\n",
      "Character Y: has index: 1\n",
      "Character T: has index: 2\n",
      "Character H: has index: 3\n",
      "Character O: has index: 4\n",
      "Character N: has index: 5\n"
     ]
    }
   ],
   "source": [
    "# String indexing and slicing\n",
    "\n",
    "# creating a string\n",
    "s = 'PYTHON'\n",
    "\n",
    "# depicting string indexes\n",
    "for index, character in enumerate(s):\n",
    "    print 'Character', character+':', 'has index:', index\n",
    "\n"
   ]
  },
  {
   "cell_type": "code",
   "execution_count": 38,
   "metadata": {
    "collapsed": false
   },
   "outputs": [
    {
     "data": {
      "text/plain": [
       "('P', 'Y', 'T', 'H', 'O', 'N')"
      ]
     },
     "execution_count": 38,
     "metadata": {},
     "output_type": "execute_result"
    }
   ],
   "source": [
    "# string indexing\n",
    "s[0], s[1], s[2], s[3], s[4], s[5]\n"
   ]
  },
  {
   "cell_type": "code",
   "execution_count": 39,
   "metadata": {
    "collapsed": false
   },
   "outputs": [
    {
     "data": {
      "text/plain": [
       "('N', 'O', 'H', 'T', 'Y', 'P')"
      ]
     },
     "execution_count": 39,
     "metadata": {},
     "output_type": "execute_result"
    }
   ],
   "source": [
    "s[-1], s[-2], s[-3], s[-4], s[-5], s[-6]\n"
   ]
  },
  {
   "cell_type": "code",
   "execution_count": 40,
   "metadata": {
    "collapsed": false
   },
   "outputs": [
    {
     "data": {
      "text/plain": [
       "'PYTHON'"
      ]
     },
     "execution_count": 40,
     "metadata": {},
     "output_type": "execute_result"
    }
   ],
   "source": [
    "# string slicing\n",
    "s[:] \n"
   ]
  },
  {
   "cell_type": "code",
   "execution_count": 41,
   "metadata": {
    "collapsed": false
   },
   "outputs": [
    {
     "data": {
      "text/plain": [
       "'YTH'"
      ]
     },
     "execution_count": 41,
     "metadata": {},
     "output_type": "execute_result"
    }
   ],
   "source": [
    "s[1:4]\n"
   ]
  },
  {
   "cell_type": "code",
   "execution_count": 42,
   "metadata": {
    "collapsed": false
   },
   "outputs": [
    {
     "data": {
      "text/plain": [
       "'PYT'"
      ]
     },
     "execution_count": 42,
     "metadata": {},
     "output_type": "execute_result"
    }
   ],
   "source": [
    "s[:3]\n"
   ]
  },
  {
   "cell_type": "code",
   "execution_count": 43,
   "metadata": {
    "collapsed": false
   },
   "outputs": [
    {
     "data": {
      "text/plain": [
       "'HON'"
      ]
     },
     "execution_count": 43,
     "metadata": {},
     "output_type": "execute_result"
    }
   ],
   "source": [
    "s[3:]\n"
   ]
  },
  {
   "cell_type": "code",
   "execution_count": 44,
   "metadata": {
    "collapsed": false
   },
   "outputs": [
    {
     "data": {
      "text/plain": [
       "'HON'"
      ]
     },
     "execution_count": 44,
     "metadata": {},
     "output_type": "execute_result"
    }
   ],
   "source": [
    "s[-3:]\n"
   ]
  },
  {
   "cell_type": "code",
   "execution_count": 45,
   "metadata": {
    "collapsed": false
   },
   "outputs": [
    {
     "data": {
      "text/plain": [
       "'PYTHON'"
      ]
     },
     "execution_count": 45,
     "metadata": {},
     "output_type": "execute_result"
    }
   ],
   "source": [
    "s[:3] + s[3:]\n"
   ]
  },
  {
   "cell_type": "code",
   "execution_count": 46,
   "metadata": {
    "collapsed": false
   },
   "outputs": [
    {
     "data": {
      "text/plain": [
       "'PYTHON'"
      ]
     },
     "execution_count": 46,
     "metadata": {},
     "output_type": "execute_result"
    }
   ],
   "source": [
    "s[:3] + s[-3:]\n"
   ]
  },
  {
   "cell_type": "code",
   "execution_count": 47,
   "metadata": {
    "collapsed": false
   },
   "outputs": [
    {
     "data": {
      "text/plain": [
       "'PYTHON'"
      ]
     },
     "execution_count": 47,
     "metadata": {},
     "output_type": "execute_result"
    }
   ],
   "source": [
    "# string slicing with offsets\n",
    "s[::1]  # no offset\n"
   ]
  },
  {
   "cell_type": "code",
   "execution_count": 48,
   "metadata": {
    "collapsed": false
   },
   "outputs": [
    {
     "data": {
      "text/plain": [
       "'PTO'"
      ]
     },
     "execution_count": 48,
     "metadata": {},
     "output_type": "execute_result"
    }
   ],
   "source": [
    "s[::2]  # print every 2nd character in string\n"
   ]
  },
  {
   "cell_type": "code",
   "execution_count": 49,
   "metadata": {
    "collapsed": false
   },
   "outputs": [
    {
     "ename": "TypeError",
     "evalue": "'str' object does not support item assignment",
     "output_type": "error",
     "traceback": [
      "\u001b[0;31m---------------------------------------------------------------------------\u001b[0m",
      "\u001b[0;31mTypeError\u001b[0m                                 Traceback (most recent call last)",
      "\u001b[0;32m<ipython-input-49-e42583b5a6c7>\u001b[0m in \u001b[0;36m<module>\u001b[0;34m()\u001b[0m\n\u001b[1;32m      1\u001b[0m \u001b[0;31m# strings are immutable hence assignment throws error\u001b[0m\u001b[0;34m\u001b[0m\u001b[0;34m\u001b[0m\u001b[0m\n\u001b[0;32m----> 2\u001b[0;31m \u001b[0ms\u001b[0m\u001b[0;34m[\u001b[0m\u001b[0;36m0\u001b[0m\u001b[0;34m]\u001b[0m \u001b[0;34m=\u001b[0m \u001b[0;34m'X'\u001b[0m\u001b[0;34m\u001b[0m\u001b[0m\n\u001b[0m\u001b[1;32m      3\u001b[0m \u001b[0;34m\u001b[0m\u001b[0m\n\u001b[1;32m      4\u001b[0m \u001b[0;31m# creates a new string\u001b[0m\u001b[0;34m\u001b[0m\u001b[0;34m\u001b[0m\u001b[0m\n\u001b[1;32m      5\u001b[0m \u001b[0;34m'X'\u001b[0m \u001b[0;34m+\u001b[0m \u001b[0ms\u001b[0m\u001b[0;34m[\u001b[0m\u001b[0;36m1\u001b[0m\u001b[0;34m:\u001b[0m\u001b[0;34m]\u001b[0m\u001b[0;34m\u001b[0m\u001b[0m\n",
      "\u001b[0;31mTypeError\u001b[0m: 'str' object does not support item assignment"
     ]
    }
   ],
   "source": [
    "# strings are immutable hence assignment throws error\n",
    "s[0] = 'X'\n"
   ]
  },
  {
   "cell_type": "code",
   "execution_count": 50,
   "metadata": {
    "collapsed": false
   },
   "outputs": [
    {
     "data": {
      "text/plain": [
       "'XYTHON'"
      ]
     },
     "execution_count": 50,
     "metadata": {},
     "output_type": "execute_result"
    }
   ],
   "source": [
    "\n",
    "# creates a new string\n",
    "'X' + s[1:]\n"
   ]
  },
  {
   "cell_type": "code",
   "execution_count": 51,
   "metadata": {
    "collapsed": false
   },
   "outputs": [
    {
     "data": {
      "text/plain": [
       "'PYTHON IS GREAT'"
      ]
     },
     "execution_count": 51,
     "metadata": {},
     "output_type": "execute_result"
    }
   ],
   "source": [
    "# String methods\n",
    "\n",
    "# case conversions\n",
    "s = 'python is great'\n",
    "s.capitalize()\n",
    "s.upper()\n"
   ]
  },
  {
   "cell_type": "code",
   "execution_count": 52,
   "metadata": {
    "collapsed": false
   },
   "outputs": [
    {
     "data": {
      "text/plain": [
       "'analytics is great'"
      ]
     },
     "execution_count": 52,
     "metadata": {},
     "output_type": "execute_result"
    }
   ],
   "source": [
    "# string replace\n",
    "s.replace('python', 'analytics')\n"
   ]
  },
  {
   "cell_type": "code",
   "execution_count": 53,
   "metadata": {
    "collapsed": false
   },
   "outputs": [
    {
     "data": {
      "text/plain": [
       "'I am a comma separated string'"
      ]
     },
     "execution_count": 53,
     "metadata": {},
     "output_type": "execute_result"
    }
   ],
   "source": [
    "# string splitting and joining\n",
    "s = 'I,am,a,comma,separated,string'\n",
    "s.split(',')\n",
    "' '.join(s.split(','))\n",
    "\n"
   ]
  },
  {
   "cell_type": "code",
   "execution_count": 54,
   "metadata": {
    "collapsed": false
   },
   "outputs": [
    {
     "data": {
      "text/plain": [
       "'I am surrounded by spaces'"
      ]
     },
     "execution_count": 54,
     "metadata": {},
     "output_type": "execute_result"
    }
   ],
   "source": [
    "# stripping whitespace characters\n",
    "s = '   I am surrounded by spaces    '\n",
    "s\n",
    "s.strip()\n"
   ]
  },
  {
   "cell_type": "code",
   "execution_count": 55,
   "metadata": {
    "collapsed": false
   },
   "outputs": [
    {
     "data": {
      "text/plain": [
       "'This Is In Lower Case'"
      ]
     },
     "execution_count": 55,
     "metadata": {},
     "output_type": "execute_result"
    }
   ],
   "source": [
    "# coverting to title case\n",
    "s = 'this is in lower case'\n",
    "s.title()\n"
   ]
  },
  {
   "cell_type": "code",
   "execution_count": 56,
   "metadata": {
    "collapsed": false
   },
   "outputs": [
    {
     "data": {
      "text/plain": [
       "'Hello Python!'"
      ]
     },
     "execution_count": 56,
     "metadata": {},
     "output_type": "execute_result"
    }
   ],
   "source": [
    "# String formatting\n",
    "\n",
    "# simple string formatting expressions\n",
    "'Hello %s' %('Python!')\n"
   ]
  },
  {
   "cell_type": "code",
   "execution_count": 57,
   "metadata": {
    "collapsed": false
   },
   "outputs": [
    {
     "data": {
      "text/plain": [
       "'Hello World!'"
      ]
     },
     "execution_count": 57,
     "metadata": {},
     "output_type": "execute_result"
    }
   ],
   "source": [
    "'Hello %s' %('World!')\n"
   ]
  },
  {
   "cell_type": "code",
   "execution_count": 58,
   "metadata": {
    "collapsed": false
   },
   "outputs": [
    {
     "data": {
      "text/plain": [
       "'We have 2 bottles containing 2.50 gallons of milk'"
      ]
     },
     "execution_count": 58,
     "metadata": {},
     "output_type": "execute_result"
    }
   ],
   "source": [
    "# formatting expressions with different data types\n",
    "'We have %d %s containing %.2f gallons of %s' %(2, 'bottles', 2.5, 'milk')\n"
   ]
  },
  {
   "cell_type": "code",
   "execution_count": 59,
   "metadata": {
    "collapsed": false
   },
   "outputs": [
    {
     "data": {
      "text/plain": [
       "'We have 5 jugs containing 10.87 gallons of juice'"
      ]
     },
     "execution_count": 59,
     "metadata": {},
     "output_type": "execute_result"
    }
   ],
   "source": [
    "'We have %d %s containing %.2f gallons of %s' %(5, 'jugs', 10.867, 'juice')\n"
   ]
  },
  {
   "cell_type": "code",
   "execution_count": 60,
   "metadata": {
    "collapsed": false
   },
   "outputs": [
    {
     "data": {
      "text/plain": [
       "'Hello Mr. Jones, it is a great pleasure to meet you'"
      ]
     },
     "execution_count": 60,
     "metadata": {},
     "output_type": "execute_result"
    }
   ],
   "source": [
    "# formatting using the format method\n",
    "'Hello {} {}, it is a great {} to meet you'.format('Mr.', 'Jones', 'pleasure')\n"
   ]
  },
  {
   "cell_type": "code",
   "execution_count": 61,
   "metadata": {
    "collapsed": false
   },
   "outputs": [
    {
     "data": {
      "text/plain": [
       "'Hello Sir Arthur, it is a great honor to meet you'"
      ]
     },
     "execution_count": 61,
     "metadata": {},
     "output_type": "execute_result"
    }
   ],
   "source": [
    "'Hello {} {}, it is a great {} to meet you'.format('Sir', 'Arthur', 'honor')\n"
   ]
  },
  {
   "cell_type": "code",
   "execution_count": 62,
   "metadata": {
    "collapsed": false
   },
   "outputs": [
    {
     "data": {
      "text/plain": [
       "'I have a sandwich and a soda with me'"
      ]
     },
     "execution_count": 62,
     "metadata": {},
     "output_type": "execute_result"
    }
   ],
   "source": [
    "# alternative ways of using format\n",
    "'I have a {food_item} and a {drink_item} with me'.format(drink_item='soda', food_item='sandwich')\n"
   ]
  },
  {
   "cell_type": "code",
   "execution_count": 63,
   "metadata": {
    "collapsed": false
   },
   "outputs": [
    {
     "data": {
      "text/plain": [
       "\"The dog has the following attributes: ['lazy', 'loyal']\""
      ]
     },
     "execution_count": 63,
     "metadata": {},
     "output_type": "execute_result"
    }
   ],
   "source": [
    "'The {animal} has the following attributes: {attributes}'.format(animal='dog', attributes=['lazy', 'loyal'])\n"
   ]
  },
  {
   "cell_type": "code",
   "execution_count": 64,
   "metadata": {
    "collapsed": false
   },
   "outputs": [
    {
     "data": {
      "text/plain": [
       "u'H\\xe8llo'"
      ]
     },
     "execution_count": 64,
     "metadata": {},
     "output_type": "execute_result"
    }
   ],
   "source": [
    "# Using regular expressions\n",
    "\n",
    "# importing the re module\n",
    "import re\n",
    "\n",
    "# dealing with unicode matching using regexes\n",
    "s = u'H\\u00e8llo'\n",
    "s\n"
   ]
  },
  {
   "cell_type": "code",
   "execution_count": 65,
   "metadata": {
    "collapsed": false
   },
   "outputs": [
    {
     "name": "stdout",
     "output_type": "stream",
     "text": [
      "Hèllo\n"
     ]
    }
   ],
   "source": [
    "print s\n"
   ]
  },
  {
   "cell_type": "code",
   "execution_count": 66,
   "metadata": {
    "collapsed": false
   },
   "outputs": [
    {
     "data": {
      "text/plain": [
       "[u'H', u'llo']"
      ]
     },
     "execution_count": 66,
     "metadata": {},
     "output_type": "execute_result"
    }
   ],
   "source": [
    "# does not return the special unicode character even if it is alphanumeric\n",
    "re.findall(r'\\w+', s)\n"
   ]
  },
  {
   "cell_type": "code",
   "execution_count": 67,
   "metadata": {
    "collapsed": false
   },
   "outputs": [
    {
     "data": {
      "text/plain": [
       "[u'H\\xe8llo']"
      ]
     },
     "execution_count": 67,
     "metadata": {},
     "output_type": "execute_result"
    }
   ],
   "source": [
    "# need to explicitely specify the unicode flag to detect it using regex\n",
    "re.findall(r'\\w+', s, re.UNICODE)\n"
   ]
  },
  {
   "cell_type": "code",
   "execution_count": 68,
   "metadata": {
    "collapsed": true
   },
   "outputs": [],
   "source": [
    "# setting up a pattern we want to use as a regex\n",
    "# also creating two sample strings\n",
    "pattern = 'python'\n",
    "s1 = 'Python is an excellent language'\n",
    "s2 = 'I love the Python language. I also use Python to build applications at work!'\n",
    "\n",
    "# match only returns a match if regex match is found at the beginning of the string\n",
    "re.match(pattern, s1)\n"
   ]
  },
  {
   "cell_type": "code",
   "execution_count": 69,
   "metadata": {
    "collapsed": false
   },
   "outputs": [
    {
     "data": {
      "text/plain": [
       "<_sre.SRE_Match at 0x7f35400ea370>"
      ]
     },
     "execution_count": 69,
     "metadata": {},
     "output_type": "execute_result"
    }
   ],
   "source": [
    "# pattern is in lower case hence ignore case flag helps\n",
    "# in matching same pattern with different cases\n",
    "re.match(pattern, s1, flags=re.IGNORECASE)\n"
   ]
  },
  {
   "cell_type": "code",
   "execution_count": 70,
   "metadata": {
    "collapsed": false
   },
   "outputs": [
    {
     "name": "stdout",
     "output_type": "stream",
     "text": [
      "Found match Python ranging from index 0 - 6 in the string \"Python is an excellent language\"\n"
     ]
    }
   ],
   "source": [
    "# printing matched string and its indices in the original string\n",
    "m = re.match(pattern, s1, flags=re.IGNORECASE)\n",
    "print 'Found match {} ranging from index {} - {} in the string \"{}\"'.format(m.group(0), m.start(), m.end(), s1)\n"
   ]
  },
  {
   "cell_type": "code",
   "execution_count": 71,
   "metadata": {
    "collapsed": true
   },
   "outputs": [],
   "source": [
    "# match does not work when pattern is not there in the beginning of string s2\n",
    "re.match(pattern, s2, re.IGNORECASE)\n",
    "\n"
   ]
  },
  {
   "cell_type": "code",
   "execution_count": 72,
   "metadata": {
    "collapsed": false
   },
   "outputs": [
    {
     "data": {
      "text/plain": [
       "['Python', 'Python']"
      ]
     },
     "execution_count": 72,
     "metadata": {},
     "output_type": "execute_result"
    }
   ],
   "source": [
    "# illustrating find and search methods using the re module\n",
    "re.search(pattern, s2, re.IGNORECASE)\n",
    "re.findall(pattern, s2, re.IGNORECASE)\n"
   ]
  },
  {
   "cell_type": "code",
   "execution_count": 73,
   "metadata": {
    "collapsed": false
   },
   "outputs": [
    {
     "name": "stdout",
     "output_type": "stream",
     "text": [
      "String: I love the Python language. I also use Python to build applications at work!\n",
      "Found match \"Python\" ranging from index 11 - 17\n",
      "Found match \"Python\" ranging from index 39 - 45\n"
     ]
    }
   ],
   "source": [
    "match_objs = re.finditer(pattern, s2, re.IGNORECASE)\n",
    "print \"String:\", s2\n",
    "for m in match_objs:\n",
    "    print 'Found match \"{}\" ranging from index {} - {}'.format(m.group(0), m.start(), m.end())    \n"
   ]
  },
  {
   "cell_type": "code",
   "execution_count": 74,
   "metadata": {
    "collapsed": false
   },
   "outputs": [
    {
     "data": {
      "text/plain": [
       "'I love the Java language. I also use Java to build applications at work!'"
      ]
     },
     "execution_count": 74,
     "metadata": {},
     "output_type": "execute_result"
    }
   ],
   "source": [
    "# illustrating pattern substitution using sub and subn methods\n",
    "re.sub(pattern, 'Java', s2, flags=re.IGNORECASE)\n"
   ]
  },
  {
   "cell_type": "code",
   "execution_count": 75,
   "metadata": {
    "collapsed": false
   },
   "outputs": [
    {
     "data": {
      "text/plain": [
       "('I love the Java language. I also use Java to build applications at work!', 2)"
      ]
     },
     "execution_count": 75,
     "metadata": {},
     "output_type": "execute_result"
    }
   ],
   "source": [
    "re.subn(pattern, 'Java', s2, flags=re.IGNORECASE)\n"
   ]
  },
  {
   "cell_type": "code",
   "execution_count": null,
   "metadata": {
    "collapsed": true
   },
   "outputs": [],
   "source": []
  }
 ],
 "metadata": {
  "anaconda-cloud": {},
  "kernelspec": {
   "display_name": "Python [conda env:python2]",
   "language": "python",
   "name": "conda-env-python2-py"
  },
  "language_info": {
   "codemirror_mode": {
    "name": "ipython",
    "version": 2
   },
   "file_extension": ".py",
   "mimetype": "text/x-python",
   "name": "python",
   "nbconvert_exporter": "python",
   "pygments_lexer": "ipython2",
   "version": "2.7.12"
  }
 },
 "nbformat": 4,
 "nbformat_minor": 1
}
